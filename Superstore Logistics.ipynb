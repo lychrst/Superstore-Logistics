{
 "cells": [
  {
   "cell_type": "code",
   "execution_count": 1,
   "id": "f57896fa",
   "metadata": {},
   "outputs": [
    {
     "name": "stderr",
     "output_type": "stream",
     "text": [
      "C:\\Users\\eincr\\anaconda3\\lib\\site-packages\\scipy\\__init__.py:146: UserWarning: A NumPy version >=1.16.5 and <1.23.0 is required for this version of SciPy (detected version 1.23.1\n",
      "  warnings.warn(f\"A NumPy version >={np_minversion} and <{np_maxversion}\"\n"
     ]
    }
   ],
   "source": [
    "import numpy as np\n",
    "import pandas as pd\n",
    "import seaborn as sns\n",
    "import matplotlib.pyplot as plt\n",
    "import random as random\n",
    "plt.style.use('fivethirtyeight')\n",
    "\n",
    "import warnings\n",
    "warnings.filterwarnings(\"ignore\")"
   ]
  },
  {
   "cell_type": "code",
   "execution_count": 2,
   "id": "e73db0a1",
   "metadata": {},
   "outputs": [],
   "source": [
    "# Use functions from .py file\n",
    "%load_ext autoreload\n",
    "%autoreload 2\n",
    "import os\n",
    "import sys\n",
    "module_path = os.path.abspath(os.path.join(os.pardir))\n",
    "if module_path not in sys.path:\n",
    "    sys.path.append(module_path)\n",
    "\n",
    "import src.functions as funcs"
   ]
  },
  {
   "cell_type": "code",
   "execution_count": 3,
   "id": "3ff3cf1e",
   "metadata": {},
   "outputs": [],
   "source": [
    "super_explore =  pd.read_csv('superstore.csv', encoding = 'unicode_escape')"
   ]
  },
  {
   "cell_type": "code",
   "execution_count": 4,
   "id": "57200cf1",
   "metadata": {},
   "outputs": [
    {
     "data": {
      "text/plain": [
       "Index(['Row ID', 'Order ID', 'Order Date', 'Ship Date', 'Ship Mode',\n",
       "       'Customer ID', 'Customer Name', 'Segment', 'Country', 'City', 'State',\n",
       "       'Postal Code', 'Region', 'Product ID', 'Category', 'Sub-Category',\n",
       "       'Product Name', 'Sales', 'Quantity', 'Discount', 'Profit'],\n",
       "      dtype='object')"
      ]
     },
     "execution_count": 4,
     "metadata": {},
     "output_type": "execute_result"
    }
   ],
   "source": [
    "super_explore.columns"
   ]
  },
  {
   "cell_type": "code",
   "execution_count": 5,
   "id": "895f6cd1",
   "metadata": {},
   "outputs": [],
   "source": [
    "abr_super = super_explore[['Row ID', \"Customer Name\", \"Region\", \"Category\", \"Sub-Category\", \"Product ID\",  \"Product Name\", \"Ship Mode\"]]"
   ]
  },
  {
   "cell_type": "code",
   "execution_count": 6,
   "id": "13643c3e",
   "metadata": {},
   "outputs": [
    {
     "data": {
      "text/html": [
       "<div>\n",
       "<style scoped>\n",
       "    .dataframe tbody tr th:only-of-type {\n",
       "        vertical-align: middle;\n",
       "    }\n",
       "\n",
       "    .dataframe tbody tr th {\n",
       "        vertical-align: top;\n",
       "    }\n",
       "\n",
       "    .dataframe thead th {\n",
       "        text-align: right;\n",
       "    }\n",
       "</style>\n",
       "<table border=\"1\" class=\"dataframe\">\n",
       "  <thead>\n",
       "    <tr style=\"text-align: right;\">\n",
       "      <th></th>\n",
       "      <th>Row ID</th>\n",
       "      <th>Customer Name</th>\n",
       "      <th>Region</th>\n",
       "      <th>Category</th>\n",
       "      <th>Sub-Category</th>\n",
       "      <th>Product ID</th>\n",
       "      <th>Product Name</th>\n",
       "      <th>Ship Mode</th>\n",
       "    </tr>\n",
       "  </thead>\n",
       "  <tbody>\n",
       "    <tr>\n",
       "      <th>0</th>\n",
       "      <td>1</td>\n",
       "      <td>Claire Gute</td>\n",
       "      <td>South</td>\n",
       "      <td>Furniture</td>\n",
       "      <td>Bookcases</td>\n",
       "      <td>FUR-BO-10001798</td>\n",
       "      <td>Bush Somerset Collection Bookcase</td>\n",
       "      <td>Second Class</td>\n",
       "    </tr>\n",
       "    <tr>\n",
       "      <th>1</th>\n",
       "      <td>2</td>\n",
       "      <td>Claire Gute</td>\n",
       "      <td>South</td>\n",
       "      <td>Furniture</td>\n",
       "      <td>Chairs</td>\n",
       "      <td>FUR-CH-10000454</td>\n",
       "      <td>Hon Deluxe Fabric Upholstered Stacking Chairs,...</td>\n",
       "      <td>Second Class</td>\n",
       "    </tr>\n",
       "    <tr>\n",
       "      <th>2</th>\n",
       "      <td>3</td>\n",
       "      <td>Darrin Van Huff</td>\n",
       "      <td>West</td>\n",
       "      <td>Office Supplies</td>\n",
       "      <td>Labels</td>\n",
       "      <td>OFF-LA-10000240</td>\n",
       "      <td>Self-Adhesive Address Labels for Typewriters b...</td>\n",
       "      <td>Second Class</td>\n",
       "    </tr>\n",
       "    <tr>\n",
       "      <th>3</th>\n",
       "      <td>4</td>\n",
       "      <td>Sean O'Donnell</td>\n",
       "      <td>South</td>\n",
       "      <td>Furniture</td>\n",
       "      <td>Tables</td>\n",
       "      <td>FUR-TA-10000577</td>\n",
       "      <td>Bretford CR4500 Series Slim Rectangular Table</td>\n",
       "      <td>Standard Class</td>\n",
       "    </tr>\n",
       "    <tr>\n",
       "      <th>4</th>\n",
       "      <td>5</td>\n",
       "      <td>Sean O'Donnell</td>\n",
       "      <td>South</td>\n",
       "      <td>Office Supplies</td>\n",
       "      <td>Storage</td>\n",
       "      <td>OFF-ST-10000760</td>\n",
       "      <td>Eldon Fold 'N Roll Cart System</td>\n",
       "      <td>Standard Class</td>\n",
       "    </tr>\n",
       "    <tr>\n",
       "      <th>...</th>\n",
       "      <td>...</td>\n",
       "      <td>...</td>\n",
       "      <td>...</td>\n",
       "      <td>...</td>\n",
       "      <td>...</td>\n",
       "      <td>...</td>\n",
       "      <td>...</td>\n",
       "      <td>...</td>\n",
       "    </tr>\n",
       "    <tr>\n",
       "      <th>9989</th>\n",
       "      <td>9990</td>\n",
       "      <td>Tom Boeckenhauer</td>\n",
       "      <td>South</td>\n",
       "      <td>Furniture</td>\n",
       "      <td>Furnishings</td>\n",
       "      <td>FUR-FU-10001889</td>\n",
       "      <td>Ultra Door Pull Handle</td>\n",
       "      <td>Second Class</td>\n",
       "    </tr>\n",
       "    <tr>\n",
       "      <th>9990</th>\n",
       "      <td>9991</td>\n",
       "      <td>Dave Brooks</td>\n",
       "      <td>West</td>\n",
       "      <td>Furniture</td>\n",
       "      <td>Furnishings</td>\n",
       "      <td>FUR-FU-10000747</td>\n",
       "      <td>Tenex B1-RE Series Chair Mats for Low Pile Car...</td>\n",
       "      <td>Standard Class</td>\n",
       "    </tr>\n",
       "    <tr>\n",
       "      <th>9991</th>\n",
       "      <td>9992</td>\n",
       "      <td>Dave Brooks</td>\n",
       "      <td>West</td>\n",
       "      <td>Technology</td>\n",
       "      <td>Phones</td>\n",
       "      <td>TEC-PH-10003645</td>\n",
       "      <td>Aastra 57i VoIP phone</td>\n",
       "      <td>Standard Class</td>\n",
       "    </tr>\n",
       "    <tr>\n",
       "      <th>9992</th>\n",
       "      <td>9993</td>\n",
       "      <td>Dave Brooks</td>\n",
       "      <td>West</td>\n",
       "      <td>Office Supplies</td>\n",
       "      <td>Paper</td>\n",
       "      <td>OFF-PA-10004041</td>\n",
       "      <td>It's Hot Message Books with Stickers, 2 3/4\" x 5\"</td>\n",
       "      <td>Standard Class</td>\n",
       "    </tr>\n",
       "    <tr>\n",
       "      <th>9993</th>\n",
       "      <td>9994</td>\n",
       "      <td>Chris Cortes</td>\n",
       "      <td>West</td>\n",
       "      <td>Office Supplies</td>\n",
       "      <td>Appliances</td>\n",
       "      <td>OFF-AP-10002684</td>\n",
       "      <td>Acco 7-Outlet Masterpiece Power Center, Wihtou...</td>\n",
       "      <td>Second Class</td>\n",
       "    </tr>\n",
       "  </tbody>\n",
       "</table>\n",
       "<p>9994 rows × 8 columns</p>\n",
       "</div>"
      ],
      "text/plain": [
       "      Row ID     Customer Name Region         Category Sub-Category  \\\n",
       "0          1       Claire Gute  South        Furniture    Bookcases   \n",
       "1          2       Claire Gute  South        Furniture       Chairs   \n",
       "2          3   Darrin Van Huff   West  Office Supplies       Labels   \n",
       "3          4    Sean O'Donnell  South        Furniture       Tables   \n",
       "4          5    Sean O'Donnell  South  Office Supplies      Storage   \n",
       "...      ...               ...    ...              ...          ...   \n",
       "9989    9990  Tom Boeckenhauer  South        Furniture  Furnishings   \n",
       "9990    9991       Dave Brooks   West        Furniture  Furnishings   \n",
       "9991    9992       Dave Brooks   West       Technology       Phones   \n",
       "9992    9993       Dave Brooks   West  Office Supplies        Paper   \n",
       "9993    9994      Chris Cortes   West  Office Supplies   Appliances   \n",
       "\n",
       "           Product ID                                       Product Name  \\\n",
       "0     FUR-BO-10001798                  Bush Somerset Collection Bookcase   \n",
       "1     FUR-CH-10000454  Hon Deluxe Fabric Upholstered Stacking Chairs,...   \n",
       "2     OFF-LA-10000240  Self-Adhesive Address Labels for Typewriters b...   \n",
       "3     FUR-TA-10000577      Bretford CR4500 Series Slim Rectangular Table   \n",
       "4     OFF-ST-10000760                     Eldon Fold 'N Roll Cart System   \n",
       "...               ...                                                ...   \n",
       "9989  FUR-FU-10001889                             Ultra Door Pull Handle   \n",
       "9990  FUR-FU-10000747  Tenex B1-RE Series Chair Mats for Low Pile Car...   \n",
       "9991  TEC-PH-10003645                              Aastra 57i VoIP phone   \n",
       "9992  OFF-PA-10004041  It's Hot Message Books with Stickers, 2 3/4\" x 5\"   \n",
       "9993  OFF-AP-10002684  Acco 7-Outlet Masterpiece Power Center, Wihtou...   \n",
       "\n",
       "           Ship Mode  \n",
       "0       Second Class  \n",
       "1       Second Class  \n",
       "2       Second Class  \n",
       "3     Standard Class  \n",
       "4     Standard Class  \n",
       "...              ...  \n",
       "9989    Second Class  \n",
       "9990  Standard Class  \n",
       "9991  Standard Class  \n",
       "9992  Standard Class  \n",
       "9993    Second Class  \n",
       "\n",
       "[9994 rows x 8 columns]"
      ]
     },
     "execution_count": 6,
     "metadata": {},
     "output_type": "execute_result"
    }
   ],
   "source": [
    "abr_super"
   ]
  },
  {
   "cell_type": "code",
   "execution_count": 7,
   "id": "99a4567e",
   "metadata": {
    "scrolled": true
   },
   "outputs": [
    {
     "data": {
      "text/html": [
       "<div>\n",
       "<style scoped>\n",
       "    .dataframe tbody tr th:only-of-type {\n",
       "        vertical-align: middle;\n",
       "    }\n",
       "\n",
       "    .dataframe tbody tr th {\n",
       "        vertical-align: top;\n",
       "    }\n",
       "\n",
       "    .dataframe thead th {\n",
       "        text-align: right;\n",
       "    }\n",
       "</style>\n",
       "<table border=\"1\" class=\"dataframe\">\n",
       "  <thead>\n",
       "    <tr style=\"text-align: right;\">\n",
       "      <th></th>\n",
       "      <th>Day</th>\n",
       "      <th>orders</th>\n",
       "      <th>Row ID</th>\n",
       "      <th>Customer Name</th>\n",
       "      <th>Region</th>\n",
       "      <th>Category</th>\n",
       "      <th>Sub-Category</th>\n",
       "      <th>Product ID</th>\n",
       "      <th>Product Name</th>\n",
       "      <th>Ship Mode</th>\n",
       "    </tr>\n",
       "  </thead>\n",
       "  <tbody>\n",
       "    <tr>\n",
       "      <th>0</th>\n",
       "      <td>1</td>\n",
       "      <td>8</td>\n",
       "      <td>8</td>\n",
       "      <td>Brosina Hoffman</td>\n",
       "      <td>West</td>\n",
       "      <td>Technology</td>\n",
       "      <td>Phones</td>\n",
       "      <td>TEC-PH-10002275</td>\n",
       "      <td>Mitel 5320 IP Phone VoIP phone</td>\n",
       "      <td>Standard Class</td>\n",
       "    </tr>\n",
       "    <tr>\n",
       "      <th>1</th>\n",
       "      <td>1</td>\n",
       "      <td>8</td>\n",
       "      <td>8</td>\n",
       "      <td>Brosina Hoffman</td>\n",
       "      <td>West</td>\n",
       "      <td>Technology</td>\n",
       "      <td>Phones</td>\n",
       "      <td>TEC-PH-10002275</td>\n",
       "      <td>Mitel 5320 IP Phone VoIP phone</td>\n",
       "      <td>Standard Class</td>\n",
       "    </tr>\n",
       "    <tr>\n",
       "      <th>2</th>\n",
       "      <td>1</td>\n",
       "      <td>8</td>\n",
       "      <td>8</td>\n",
       "      <td>Brosina Hoffman</td>\n",
       "      <td>West</td>\n",
       "      <td>Technology</td>\n",
       "      <td>Phones</td>\n",
       "      <td>TEC-PH-10002275</td>\n",
       "      <td>Mitel 5320 IP Phone VoIP phone</td>\n",
       "      <td>Standard Class</td>\n",
       "    </tr>\n",
       "    <tr>\n",
       "      <th>3</th>\n",
       "      <td>1</td>\n",
       "      <td>8</td>\n",
       "      <td>8</td>\n",
       "      <td>Brosina Hoffman</td>\n",
       "      <td>West</td>\n",
       "      <td>Technology</td>\n",
       "      <td>Phones</td>\n",
       "      <td>TEC-PH-10002275</td>\n",
       "      <td>Mitel 5320 IP Phone VoIP phone</td>\n",
       "      <td>Standard Class</td>\n",
       "    </tr>\n",
       "    <tr>\n",
       "      <th>4</th>\n",
       "      <td>1</td>\n",
       "      <td>8</td>\n",
       "      <td>8</td>\n",
       "      <td>Brosina Hoffman</td>\n",
       "      <td>West</td>\n",
       "      <td>Technology</td>\n",
       "      <td>Phones</td>\n",
       "      <td>TEC-PH-10002275</td>\n",
       "      <td>Mitel 5320 IP Phone VoIP phone</td>\n",
       "      <td>Standard Class</td>\n",
       "    </tr>\n",
       "    <tr>\n",
       "      <th>...</th>\n",
       "      <td>...</td>\n",
       "      <td>...</td>\n",
       "      <td>...</td>\n",
       "      <td>...</td>\n",
       "      <td>...</td>\n",
       "      <td>...</td>\n",
       "      <td>...</td>\n",
       "      <td>...</td>\n",
       "      <td>...</td>\n",
       "      <td>...</td>\n",
       "    </tr>\n",
       "    <tr>\n",
       "      <th>7485674</th>\n",
       "      <td>50</td>\n",
       "      <td>1773</td>\n",
       "      <td>1773</td>\n",
       "      <td>Greg Guthrie</td>\n",
       "      <td>Central</td>\n",
       "      <td>Technology</td>\n",
       "      <td>Accessories</td>\n",
       "      <td>TEC-AC-10001266</td>\n",
       "      <td>Memorex Micro Travel Drive 8 GB</td>\n",
       "      <td>Second Class</td>\n",
       "    </tr>\n",
       "    <tr>\n",
       "      <th>7485675</th>\n",
       "      <td>50</td>\n",
       "      <td>1773</td>\n",
       "      <td>1773</td>\n",
       "      <td>Greg Guthrie</td>\n",
       "      <td>Central</td>\n",
       "      <td>Technology</td>\n",
       "      <td>Accessories</td>\n",
       "      <td>TEC-AC-10001266</td>\n",
       "      <td>Memorex Micro Travel Drive 8 GB</td>\n",
       "      <td>Second Class</td>\n",
       "    </tr>\n",
       "    <tr>\n",
       "      <th>7485676</th>\n",
       "      <td>50</td>\n",
       "      <td>1773</td>\n",
       "      <td>1773</td>\n",
       "      <td>Greg Guthrie</td>\n",
       "      <td>Central</td>\n",
       "      <td>Technology</td>\n",
       "      <td>Accessories</td>\n",
       "      <td>TEC-AC-10001266</td>\n",
       "      <td>Memorex Micro Travel Drive 8 GB</td>\n",
       "      <td>Second Class</td>\n",
       "    </tr>\n",
       "    <tr>\n",
       "      <th>7485677</th>\n",
       "      <td>50</td>\n",
       "      <td>1773</td>\n",
       "      <td>1773</td>\n",
       "      <td>Greg Guthrie</td>\n",
       "      <td>Central</td>\n",
       "      <td>Technology</td>\n",
       "      <td>Accessories</td>\n",
       "      <td>TEC-AC-10001266</td>\n",
       "      <td>Memorex Micro Travel Drive 8 GB</td>\n",
       "      <td>Second Class</td>\n",
       "    </tr>\n",
       "    <tr>\n",
       "      <th>7485678</th>\n",
       "      <td>50</td>\n",
       "      <td>1773</td>\n",
       "      <td>1773</td>\n",
       "      <td>Greg Guthrie</td>\n",
       "      <td>Central</td>\n",
       "      <td>Technology</td>\n",
       "      <td>Accessories</td>\n",
       "      <td>TEC-AC-10001266</td>\n",
       "      <td>Memorex Micro Travel Drive 8 GB</td>\n",
       "      <td>Second Class</td>\n",
       "    </tr>\n",
       "  </tbody>\n",
       "</table>\n",
       "<p>7485679 rows × 10 columns</p>\n",
       "</div>"
      ],
      "text/plain": [
       "         Day  orders  Row ID    Customer Name   Region    Category  \\\n",
       "0          1       8       8  Brosina Hoffman     West  Technology   \n",
       "1          1       8       8  Brosina Hoffman     West  Technology   \n",
       "2          1       8       8  Brosina Hoffman     West  Technology   \n",
       "3          1       8       8  Brosina Hoffman     West  Technology   \n",
       "4          1       8       8  Brosina Hoffman     West  Technology   \n",
       "...      ...     ...     ...              ...      ...         ...   \n",
       "7485674   50    1773    1773     Greg Guthrie  Central  Technology   \n",
       "7485675   50    1773    1773     Greg Guthrie  Central  Technology   \n",
       "7485676   50    1773    1773     Greg Guthrie  Central  Technology   \n",
       "7485677   50    1773    1773     Greg Guthrie  Central  Technology   \n",
       "7485678   50    1773    1773     Greg Guthrie  Central  Technology   \n",
       "\n",
       "        Sub-Category       Product ID                     Product Name  \\\n",
       "0             Phones  TEC-PH-10002275   Mitel 5320 IP Phone VoIP phone   \n",
       "1             Phones  TEC-PH-10002275   Mitel 5320 IP Phone VoIP phone   \n",
       "2             Phones  TEC-PH-10002275   Mitel 5320 IP Phone VoIP phone   \n",
       "3             Phones  TEC-PH-10002275   Mitel 5320 IP Phone VoIP phone   \n",
       "4             Phones  TEC-PH-10002275   Mitel 5320 IP Phone VoIP phone   \n",
       "...              ...              ...                              ...   \n",
       "7485674  Accessories  TEC-AC-10001266  Memorex Micro Travel Drive 8 GB   \n",
       "7485675  Accessories  TEC-AC-10001266  Memorex Micro Travel Drive 8 GB   \n",
       "7485676  Accessories  TEC-AC-10001266  Memorex Micro Travel Drive 8 GB   \n",
       "7485677  Accessories  TEC-AC-10001266  Memorex Micro Travel Drive 8 GB   \n",
       "7485678  Accessories  TEC-AC-10001266  Memorex Micro Travel Drive 8 GB   \n",
       "\n",
       "              Ship Mode  \n",
       "0        Standard Class  \n",
       "1        Standard Class  \n",
       "2        Standard Class  \n",
       "3        Standard Class  \n",
       "4        Standard Class  \n",
       "...                 ...  \n",
       "7485674    Second Class  \n",
       "7485675    Second Class  \n",
       "7485676    Second Class  \n",
       "7485677    Second Class  \n",
       "7485678    Second Class  \n",
       "\n",
       "[7485679 rows x 10 columns]"
      ]
     },
     "execution_count": 7,
     "metadata": {},
     "output_type": "execute_result"
    }
   ],
   "source": [
    "n = funcs.random_customer_orders(abr_super, 1, 150000, 17000, 1, 50, 0, 9994)\n",
    "n"
   ]
  },
  {
   "cell_type": "code",
   "execution_count": 8,
   "id": "ca343a98",
   "metadata": {},
   "outputs": [
    {
     "data": {
      "text/plain": [
       "8122    28\n",
       "1817    28\n",
       "3412    27\n",
       "4418    26\n",
       "3847    26\n",
       "        ..\n",
       "4016     3\n",
       "8662     3\n",
       "5995     3\n",
       "5265     3\n",
       "6145     2\n",
       "Name: orders, Length: 9993, dtype: int64"
      ]
     },
     "execution_count": 8,
     "metadata": {},
     "output_type": "execute_result"
    }
   ],
   "source": [
    "n[n[\"Day\"] == 1]['orders'].value_counts()"
   ]
  },
  {
   "cell_type": "code",
   "execution_count": 9,
   "id": "adc2ace5",
   "metadata": {},
   "outputs": [
    {
     "data": {
      "text/plain": [
       "4     191473\n",
       "36    177010\n",
       "3     176217\n",
       "20    175729\n",
       "14    172562\n",
       "48    170496\n",
       "21    167535\n",
       "35    166504\n",
       "42    165239\n",
       "28    164200\n",
       "9     163104\n",
       "7     161571\n",
       "12    161564\n",
       "16    159592\n",
       "50    157690\n",
       "5     156293\n",
       "26    154453\n",
       "2     154338\n",
       "25    153128\n",
       "37    152555\n",
       "38    151906\n",
       "22    151481\n",
       "33    151309\n",
       "40    150532\n",
       "30    149008\n",
       "31    148088\n",
       "49    147762\n",
       "23    147313\n",
       "8     146564\n",
       "27    146005\n",
       "19    145452\n",
       "13    144409\n",
       "18    143422\n",
       "39    143017\n",
       "24    142556\n",
       "41    142292\n",
       "45    142213\n",
       "43    139735\n",
       "6     139713\n",
       "11    139568\n",
       "34    138086\n",
       "46    136934\n",
       "1     135689\n",
       "32    134428\n",
       "44    133341\n",
       "47    127899\n",
       "10    126174\n",
       "17    119402\n",
       "15    116760\n",
       "29    103368\n",
       "Name: Day, dtype: int64"
      ]
     },
     "execution_count": 9,
     "metadata": {},
     "output_type": "execute_result"
    }
   ],
   "source": [
    "n[\"Day\"].value_counts()"
   ]
  },
  {
   "cell_type": "code",
   "execution_count": 10,
   "id": "749028db",
   "metadata": {},
   "outputs": [],
   "source": [
    "Central_to_South = funcs.Central_to_South(n)\n",
    "Central_to_South['Destination'] = \"Central_to_South\"\n",
    "Central_to_West = funcs.Central_to_West(n)\n",
    "Central_to_West['Destination'] = \"Central_to_West\"\n",
    "Central_to_East= funcs.Central_to_East(n)\n",
    "Central_to_East['Destination'] = \"Central_to_East\"\n",
    "Central_Outbound = pd.concat([Central_to_South, Central_to_West, Central_to_East], axis=0)"
   ]
  },
  {
   "cell_type": "code",
   "execution_count": 11,
   "id": "74f34d44",
   "metadata": {},
   "outputs": [],
   "source": [
    "East_to_South = funcs.East_to_South(n)\n",
    "East_to_South['Destination'] = \"East_to_South\"\n",
    "East_to_Central = funcs.East_to_Central(n)\n",
    "East_to_Central['Destination'] = \"East_to_Central\"\n",
    "East_to_West = funcs.East_to_West(n)\n",
    "East_to_West['Destination'] = \"East_to_West\"\n",
    "East_Outbound = pd.concat([East_to_South, East_to_Central, East_to_West], axis=0)"
   ]
  },
  {
   "cell_type": "code",
   "execution_count": 12,
   "id": "b4b75856",
   "metadata": {},
   "outputs": [],
   "source": [
    "South_to_East = funcs.South_to_East(n)\n",
    "South_to_East['Destination'] = \"South_to_East\"\n",
    "South_to_Central = funcs.South_to_Central(n)\n",
    "South_to_Central['Destination'] = \"South_to_Central\"\n",
    "South_to_West = funcs.South_to_West(n)\n",
    "South_to_West['Destination'] = \"South_to_West\"\n",
    "South_Outbound = pd.concat([South_to_East, South_to_Central, South_to_West], axis=0)"
   ]
  },
  {
   "cell_type": "code",
   "execution_count": 13,
   "id": "b0d80486",
   "metadata": {},
   "outputs": [],
   "source": [
    "West_to_South = funcs.West_to_South(n)\n",
    "West_to_South['Destination'] = \"West_to_South\"\n",
    "West_to_Central = funcs.West_to_Central(n)\n",
    "West_to_Central['Destination'] = \"West_to_Central\"\n",
    "West_to_East = funcs.West_to_East(n)\n",
    "West_to_East['Destination'] = \"West_to_East\"\n",
    "West_Outbound = pd.concat([West_to_South, West_to_Central, West_to_East], axis=0)"
   ]
  },
  {
   "cell_type": "code",
   "execution_count": 469,
   "id": "c0b1ec37",
   "metadata": {
    "scrolled": true
   },
   "outputs": [
    {
     "data": {
      "text/html": [
       "<div>\n",
       "<style scoped>\n",
       "    .dataframe tbody tr th:only-of-type {\n",
       "        vertical-align: middle;\n",
       "    }\n",
       "\n",
       "    .dataframe tbody tr th {\n",
       "        vertical-align: top;\n",
       "    }\n",
       "\n",
       "    .dataframe thead th {\n",
       "        text-align: right;\n",
       "    }\n",
       "</style>\n",
       "<table border=\"1\" class=\"dataframe\">\n",
       "  <thead>\n",
       "    <tr style=\"text-align: right;\">\n",
       "      <th></th>\n",
       "      <th>C_to_S</th>\n",
       "      <th>C_to_W</th>\n",
       "      <th>C_to_E</th>\n",
       "      <th>E_to_S</th>\n",
       "      <th>E_to_C</th>\n",
       "      <th>E_to_W</th>\n",
       "      <th>S_to_E</th>\n",
       "      <th>S_to_C</th>\n",
       "      <th>S_to_W</th>\n",
       "      <th>W_to_S</th>\n",
       "      <th>W_to_C</th>\n",
       "      <th>W_to_E</th>\n",
       "    </tr>\n",
       "  </thead>\n",
       "  <tbody>\n",
       "    <tr>\n",
       "      <th>0</th>\n",
       "      <td>8451.814496</td>\n",
       "      <td>8594.751725</td>\n",
       "      <td>5924.665068</td>\n",
       "      <td>6905.614934</td>\n",
       "      <td>5351.167673</td>\n",
       "      <td>9311.388023</td>\n",
       "      <td>8808.487096</td>\n",
       "      <td>9850.114012</td>\n",
       "      <td>8094.652052</td>\n",
       "      <td>9209.069646</td>\n",
       "      <td>8174.881808</td>\n",
       "      <td>8959.937741</td>\n",
       "    </tr>\n",
       "    <tr>\n",
       "      <th>1</th>\n",
       "      <td>8657.732513</td>\n",
       "      <td>6848.859401</td>\n",
       "      <td>7252.660174</td>\n",
       "      <td>7863.117225</td>\n",
       "      <td>5597.358657</td>\n",
       "      <td>10083.221631</td>\n",
       "      <td>5536.324119</td>\n",
       "      <td>9780.299977</td>\n",
       "      <td>8678.522214</td>\n",
       "      <td>9285.596270</td>\n",
       "      <td>5889.698577</td>\n",
       "      <td>7595.603507</td>\n",
       "    </tr>\n",
       "    <tr>\n",
       "      <th>2</th>\n",
       "      <td>9292.289472</td>\n",
       "      <td>5258.168111</td>\n",
       "      <td>4702.524844</td>\n",
       "      <td>9304.269235</td>\n",
       "      <td>8292.076884</td>\n",
       "      <td>9568.440762</td>\n",
       "      <td>8092.229253</td>\n",
       "      <td>9068.859346</td>\n",
       "      <td>4018.205309</td>\n",
       "      <td>8519.251064</td>\n",
       "      <td>7112.726621</td>\n",
       "      <td>8316.425463</td>\n",
       "    </tr>\n",
       "    <tr>\n",
       "      <th>3</th>\n",
       "      <td>8999.064267</td>\n",
       "      <td>7101.026595</td>\n",
       "      <td>6425.877118</td>\n",
       "      <td>7331.064554</td>\n",
       "      <td>7107.715105</td>\n",
       "      <td>7173.463201</td>\n",
       "      <td>6231.376539</td>\n",
       "      <td>8550.804596</td>\n",
       "      <td>9739.401552</td>\n",
       "      <td>7948.427669</td>\n",
       "      <td>9251.428128</td>\n",
       "      <td>8106.592483</td>\n",
       "    </tr>\n",
       "    <tr>\n",
       "      <th>4</th>\n",
       "      <td>7734.865004</td>\n",
       "      <td>7570.858913</td>\n",
       "      <td>5628.898114</td>\n",
       "      <td>8013.787053</td>\n",
       "      <td>7267.609972</td>\n",
       "      <td>7368.769203</td>\n",
       "      <td>6997.036943</td>\n",
       "      <td>7935.047526</td>\n",
       "      <td>10040.280301</td>\n",
       "      <td>9035.854442</td>\n",
       "      <td>5655.634906</td>\n",
       "      <td>10965.968151</td>\n",
       "    </tr>\n",
       "    <tr>\n",
       "      <th>...</th>\n",
       "      <td>...</td>\n",
       "      <td>...</td>\n",
       "      <td>...</td>\n",
       "      <td>...</td>\n",
       "      <td>...</td>\n",
       "      <td>...</td>\n",
       "      <td>...</td>\n",
       "      <td>...</td>\n",
       "      <td>...</td>\n",
       "      <td>...</td>\n",
       "      <td>...</td>\n",
       "      <td>...</td>\n",
       "    </tr>\n",
       "    <tr>\n",
       "      <th>145</th>\n",
       "      <td>8318.096644</td>\n",
       "      <td>9861.735195</td>\n",
       "      <td>7409.910823</td>\n",
       "      <td>10175.188928</td>\n",
       "      <td>6461.237015</td>\n",
       "      <td>7916.880988</td>\n",
       "      <td>8726.863292</td>\n",
       "      <td>6623.588118</td>\n",
       "      <td>3945.988518</td>\n",
       "      <td>6863.725273</td>\n",
       "      <td>7338.592439</td>\n",
       "      <td>5442.870893</td>\n",
       "    </tr>\n",
       "    <tr>\n",
       "      <th>146</th>\n",
       "      <td>7965.280971</td>\n",
       "      <td>6579.206621</td>\n",
       "      <td>8576.432173</td>\n",
       "      <td>7709.877570</td>\n",
       "      <td>13411.989155</td>\n",
       "      <td>9159.655657</td>\n",
       "      <td>4260.164238</td>\n",
       "      <td>7321.237391</td>\n",
       "      <td>8791.151960</td>\n",
       "      <td>8899.291870</td>\n",
       "      <td>8237.064087</td>\n",
       "      <td>7887.361280</td>\n",
       "    </tr>\n",
       "    <tr>\n",
       "      <th>147</th>\n",
       "      <td>9369.836292</td>\n",
       "      <td>9417.365245</td>\n",
       "      <td>5909.141859</td>\n",
       "      <td>7707.189263</td>\n",
       "      <td>5367.944729</td>\n",
       "      <td>10164.222951</td>\n",
       "      <td>6143.829506</td>\n",
       "      <td>9261.489187</td>\n",
       "      <td>7666.130918</td>\n",
       "      <td>10529.582870</td>\n",
       "      <td>9952.396756</td>\n",
       "      <td>7750.715030</td>\n",
       "    </tr>\n",
       "    <tr>\n",
       "      <th>148</th>\n",
       "      <td>9367.263268</td>\n",
       "      <td>8560.690893</td>\n",
       "      <td>8581.272333</td>\n",
       "      <td>8342.348828</td>\n",
       "      <td>7796.112084</td>\n",
       "      <td>9655.125587</td>\n",
       "      <td>7377.433505</td>\n",
       "      <td>8065.636331</td>\n",
       "      <td>6216.400067</td>\n",
       "      <td>10208.580854</td>\n",
       "      <td>5153.086304</td>\n",
       "      <td>7161.514130</td>\n",
       "    </tr>\n",
       "    <tr>\n",
       "      <th>149</th>\n",
       "      <td>8018.945015</td>\n",
       "      <td>7418.962687</td>\n",
       "      <td>6650.713986</td>\n",
       "      <td>5199.836848</td>\n",
       "      <td>5426.563250</td>\n",
       "      <td>8666.118129</td>\n",
       "      <td>5780.409241</td>\n",
       "      <td>8584.684383</td>\n",
       "      <td>5923.785306</td>\n",
       "      <td>8731.331550</td>\n",
       "      <td>8657.050528</td>\n",
       "      <td>7486.311095</td>\n",
       "    </tr>\n",
       "  </tbody>\n",
       "</table>\n",
       "<p>150 rows × 12 columns</p>\n",
       "</div>"
      ],
      "text/plain": [
       "          C_to_S       C_to_W       C_to_E        E_to_S        E_to_C  \\\n",
       "0    8451.814496  8594.751725  5924.665068   6905.614934   5351.167673   \n",
       "1    8657.732513  6848.859401  7252.660174   7863.117225   5597.358657   \n",
       "2    9292.289472  5258.168111  4702.524844   9304.269235   8292.076884   \n",
       "3    8999.064267  7101.026595  6425.877118   7331.064554   7107.715105   \n",
       "4    7734.865004  7570.858913  5628.898114   8013.787053   7267.609972   \n",
       "..           ...          ...          ...           ...           ...   \n",
       "145  8318.096644  9861.735195  7409.910823  10175.188928   6461.237015   \n",
       "146  7965.280971  6579.206621  8576.432173   7709.877570  13411.989155   \n",
       "147  9369.836292  9417.365245  5909.141859   7707.189263   5367.944729   \n",
       "148  9367.263268  8560.690893  8581.272333   8342.348828   7796.112084   \n",
       "149  8018.945015  7418.962687  6650.713986   5199.836848   5426.563250   \n",
       "\n",
       "           E_to_W       S_to_E       S_to_C        S_to_W        W_to_S  \\\n",
       "0     9311.388023  8808.487096  9850.114012   8094.652052   9209.069646   \n",
       "1    10083.221631  5536.324119  9780.299977   8678.522214   9285.596270   \n",
       "2     9568.440762  8092.229253  9068.859346   4018.205309   8519.251064   \n",
       "3     7173.463201  6231.376539  8550.804596   9739.401552   7948.427669   \n",
       "4     7368.769203  6997.036943  7935.047526  10040.280301   9035.854442   \n",
       "..            ...          ...          ...           ...           ...   \n",
       "145   7916.880988  8726.863292  6623.588118   3945.988518   6863.725273   \n",
       "146   9159.655657  4260.164238  7321.237391   8791.151960   8899.291870   \n",
       "147  10164.222951  6143.829506  9261.489187   7666.130918  10529.582870   \n",
       "148   9655.125587  7377.433505  8065.636331   6216.400067  10208.580854   \n",
       "149   8666.118129  5780.409241  8584.684383   5923.785306   8731.331550   \n",
       "\n",
       "          W_to_C        W_to_E  \n",
       "0    8174.881808   8959.937741  \n",
       "1    5889.698577   7595.603507  \n",
       "2    7112.726621   8316.425463  \n",
       "3    9251.428128   8106.592483  \n",
       "4    5655.634906  10965.968151  \n",
       "..           ...           ...  \n",
       "145  7338.592439   5442.870893  \n",
       "146  8237.064087   7887.361280  \n",
       "147  9952.396756   7750.715030  \n",
       "148  5153.086304   7161.514130  \n",
       "149  8657.050528   7486.311095  \n",
       "\n",
       "[150 rows x 12 columns]"
      ]
     },
     "execution_count": 469,
     "metadata": {},
     "output_type": "execute_result"
    }
   ],
   "source": [
    "# Set the mean and standard deviation for the three columns\n",
    "mean = [8500, 7500, 6750, 8000, 7750, 8750, 6900, 8900, 7250, 8250, 7100, 7800]\n",
    "std = [1000, 1500, 2000, 1250, 1750, 1100, 1900, 1350, 1800, 1600, 1400, 1150]\n",
    "\n",
    "# Generate 150 random numbers from a normal distribution for each column\n",
    "Column1 = np.random.normal(mean[0], std[0], 150)\n",
    "Column2 = np.random.normal(mean[1], std[1], 150)\n",
    "Column3 = np.random.normal(mean[2], std[2], 150)\n",
    "Column4 = np.random.normal(mean[3], std[3], 150)\n",
    "Column5 = np.random.normal(mean[4], std[4], 150)\n",
    "Column6 = np.random.normal(mean[5], std[5], 150)\n",
    "Column7 = np.random.normal(mean[6], std[6], 150)\n",
    "Column8 = np.random.normal(mean[7], std[7], 150)\n",
    "Column9 = np.random.normal(mean[8], std[8], 150)\n",
    "Column10 = np.random.normal(mean[9], std[9], 150)\n",
    "Column11 = np.random.normal(mean[10], std[10], 150)\n",
    "Column12 = np.random.normal(mean[11], std[11], 150)\n",
    "\n",
    "# Create a dataframe from the generated numbers\n",
    "loads = pd.DataFrame({\"C_to_S\": Column1,  \"C_to_W\": Column2, \"C_to_E\": Column3, \n",
    "                   \"E_to_S\": Column4 , \"E_to_C\": Column5 , 'E_to_W' : Column6,\n",
    "                   \"S_to_E\" : Column7 , \"S_to_C\": Column8, \"S_to_W\": Column9, \n",
    "                   \"W_to_S\": Column10, \"W_to_C\": Column11, \"W_to_E\": Column12})\n",
    "\n",
    "loads\n"
   ]
  },
  {
   "cell_type": "code",
   "execution_count": 15,
   "id": "0a06df4b",
   "metadata": {},
   "outputs": [],
   "source": [
    "def high_middle_low(df):\n",
    "    days = df['Day'].unique()\n",
    "    high_list = []\n",
    "    middle_list = []\n",
    "    low_list = []\n",
    "    for day in days:\n",
    "        high = len(df[(df[\"Ship Mode\"] == \"First Class\") & (df[\"Day\"] == day)]) +\\\n",
    "               len(df[(df[\"Ship Mode\"] == \"Same Day\") & (df[\"Day\"] == day)])\n",
    "        middle = len(df[(df[\"Ship Mode\"] == \"Second Class\") & (df[\"Day\"] == day)])\n",
    "        low = len(df[(df[\"Ship Mode\"] == \"Standard Class\") & (df[\"Day\"] == day)])\n",
    "        high_list.append(high)\n",
    "        middle_list.append(middle)\n",
    "        low_list.append(low)\n",
    "    return pd.DataFrame({\"Day\": days, 'high': high_list, 'middle': middle_list, 'low': low_list})"
   ]
  },
  {
   "cell_type": "code",
   "execution_count": 44,
   "id": "e9c608aa",
   "metadata": {},
   "outputs": [],
   "source": [
    "def combined_df(initial_df, sent_units):\n",
    "    initial_df['sent_units'] = sent_units\n",
    "    return initial_df"
   ]
  },
  {
   "cell_type": "code",
   "execution_count": 17,
   "id": "fa80d0c0",
   "metadata": {},
   "outputs": [],
   "source": [
    "def remainder(combined):\n",
    "    from pandasql import sqldf\n",
    "    # Use pandasql to join the two dataframes\n",
    "    query = '''\n",
    "    SELECT\n",
    "        combined.high,\n",
    "        combined.middle,\n",
    "        combined.low,\n",
    "        combined.sent_units,\n",
    "        CASE\n",
    "            WHEN combined.high > combined.sent_units THEN combined.high - combined.sent_units\n",
    "            WHEN combined.high + combined.middle > combined.sent_units THEN  combined.high + combined.middle - combined.sent_units\n",
    "            ELSE combined.high + combined.middle + combined.low - combined.sent_units\n",
    "        END AS remainder\n",
    "    FROM\n",
    "        combined\n",
    "    '''\n",
    "    remainder_df = sqldf(query)\n",
    "\n",
    "    #create a new column indicating the remainder is high, middle or low \n",
    "    remainder_df['remainder_type'] = np.where(combined.high > combined.sent_units, 'high',\n",
    "                                      np.where(combined.high + combined.middle > combined.sent_units, 'middle',\n",
    "                                               np.where(combined.high + combined.middle + combined.low - combined.sent_units > 0, 'low', 'other')))\n",
    "\n",
    "    return remainder_df"
   ]
  },
  {
   "cell_type": "code",
   "execution_count": 55,
   "id": "58ab6b60",
   "metadata": {},
   "outputs": [],
   "source": [
    "def create_new_df(remainder_df):\n",
    "    from pandasql import sqldf\n",
    "    pysqldf = lambda q: sqldf(q, globals())\n",
    "    \n",
    "    query = \"\"\"\n",
    "    SELECT \n",
    "        CASE\n",
    "            WHEN remainder_df.remainder_type == 'high' THEN remainder_df.remainder + remainder_df.middle\n",
    "            WHEN remainder_df.remainder_type == 'middle' THEN remainder_df.remainder\n",
    "            ELSE 0\n",
    "        END AS high,\n",
    "        CASE\n",
    "            WHEN remainder_df.remainder_type == 'high' THEN remainder_df.low\n",
    "            WHEN remainder_df.remainder_type == 'middle' THEN remainder_df.low\n",
    "            WHEN remainder_df.remainder_type == 'low' THEN remainder_df.remainder\n",
    "            ELSE 0\n",
    "            END AS middle,\n",
    "        CASE\n",
    "            WHEN remainder_df.remainder_type == 'low' THEN 0\n",
    "            ELSE 0\n",
    "        END AS low\n",
    "    FROM \n",
    "        remainder_df\n",
    "    \"\"\"\n",
    "    new_df = pysqldf(query)\n",
    "    return new_df"
   ]
  },
  {
   "cell_type": "code",
   "execution_count": 391,
   "id": "d616c995",
   "metadata": {
    "scrolled": false
   },
   "outputs": [
    {
     "data": {
      "text/html": [
       "<div>\n",
       "<style scoped>\n",
       "    .dataframe tbody tr th:only-of-type {\n",
       "        vertical-align: middle;\n",
       "    }\n",
       "\n",
       "    .dataframe tbody tr th {\n",
       "        vertical-align: top;\n",
       "    }\n",
       "\n",
       "    .dataframe thead th {\n",
       "        text-align: right;\n",
       "    }\n",
       "</style>\n",
       "<table border=\"1\" class=\"dataframe\">\n",
       "  <thead>\n",
       "    <tr style=\"text-align: right;\">\n",
       "      <th></th>\n",
       "      <th>Day</th>\n",
       "      <th>high</th>\n",
       "      <th>middle</th>\n",
       "      <th>low</th>\n",
       "    </tr>\n",
       "  </thead>\n",
       "  <tbody>\n",
       "    <tr>\n",
       "      <th>0</th>\n",
       "      <td>1</td>\n",
       "      <td>2467</td>\n",
       "      <td>2529</td>\n",
       "      <td>6896</td>\n",
       "    </tr>\n",
       "    <tr>\n",
       "      <th>1</th>\n",
       "      <td>2</td>\n",
       "      <td>2826</td>\n",
       "      <td>2921</td>\n",
       "      <td>7643</td>\n",
       "    </tr>\n",
       "    <tr>\n",
       "      <th>2</th>\n",
       "      <td>3</td>\n",
       "      <td>3196</td>\n",
       "      <td>3265</td>\n",
       "      <td>9072</td>\n",
       "    </tr>\n",
       "    <tr>\n",
       "      <th>3</th>\n",
       "      <td>4</td>\n",
       "      <td>3510</td>\n",
       "      <td>3557</td>\n",
       "      <td>9592</td>\n",
       "    </tr>\n",
       "    <tr>\n",
       "      <th>4</th>\n",
       "      <td>5</td>\n",
       "      <td>2874</td>\n",
       "      <td>2865</td>\n",
       "      <td>7856</td>\n",
       "    </tr>\n",
       "    <tr>\n",
       "      <th>5</th>\n",
       "      <td>6</td>\n",
       "      <td>2552</td>\n",
       "      <td>2588</td>\n",
       "      <td>6985</td>\n",
       "    </tr>\n",
       "    <tr>\n",
       "      <th>6</th>\n",
       "      <td>7</td>\n",
       "      <td>2914</td>\n",
       "      <td>3036</td>\n",
       "      <td>8138</td>\n",
       "    </tr>\n",
       "    <tr>\n",
       "      <th>7</th>\n",
       "      <td>8</td>\n",
       "      <td>2743</td>\n",
       "      <td>2694</td>\n",
       "      <td>7381</td>\n",
       "    </tr>\n",
       "    <tr>\n",
       "      <th>8</th>\n",
       "      <td>9</td>\n",
       "      <td>3098</td>\n",
       "      <td>2996</td>\n",
       "      <td>8214</td>\n",
       "    </tr>\n",
       "    <tr>\n",
       "      <th>9</th>\n",
       "      <td>10</td>\n",
       "      <td>2310</td>\n",
       "      <td>2394</td>\n",
       "      <td>6309</td>\n",
       "    </tr>\n",
       "    <tr>\n",
       "      <th>10</th>\n",
       "      <td>11</td>\n",
       "      <td>2610</td>\n",
       "      <td>2530</td>\n",
       "      <td>7063</td>\n",
       "    </tr>\n",
       "    <tr>\n",
       "      <th>11</th>\n",
       "      <td>12</td>\n",
       "      <td>2988</td>\n",
       "      <td>2996</td>\n",
       "      <td>8139</td>\n",
       "    </tr>\n",
       "    <tr>\n",
       "      <th>12</th>\n",
       "      <td>13</td>\n",
       "      <td>2760</td>\n",
       "      <td>2700</td>\n",
       "      <td>7302</td>\n",
       "    </tr>\n",
       "    <tr>\n",
       "      <th>13</th>\n",
       "      <td>14</td>\n",
       "      <td>3106</td>\n",
       "      <td>3241</td>\n",
       "      <td>8715</td>\n",
       "    </tr>\n",
       "    <tr>\n",
       "      <th>14</th>\n",
       "      <td>15</td>\n",
       "      <td>2124</td>\n",
       "      <td>2120</td>\n",
       "      <td>6000</td>\n",
       "    </tr>\n",
       "    <tr>\n",
       "      <th>15</th>\n",
       "      <td>16</td>\n",
       "      <td>2851</td>\n",
       "      <td>2973</td>\n",
       "      <td>8161</td>\n",
       "    </tr>\n",
       "    <tr>\n",
       "      <th>16</th>\n",
       "      <td>17</td>\n",
       "      <td>2162</td>\n",
       "      <td>2302</td>\n",
       "      <td>5875</td>\n",
       "    </tr>\n",
       "    <tr>\n",
       "      <th>17</th>\n",
       "      <td>18</td>\n",
       "      <td>2656</td>\n",
       "      <td>2585</td>\n",
       "      <td>7360</td>\n",
       "    </tr>\n",
       "    <tr>\n",
       "      <th>18</th>\n",
       "      <td>19</td>\n",
       "      <td>2638</td>\n",
       "      <td>2785</td>\n",
       "      <td>7402</td>\n",
       "    </tr>\n",
       "    <tr>\n",
       "      <th>19</th>\n",
       "      <td>20</td>\n",
       "      <td>3250</td>\n",
       "      <td>3304</td>\n",
       "      <td>8798</td>\n",
       "    </tr>\n",
       "    <tr>\n",
       "      <th>20</th>\n",
       "      <td>21</td>\n",
       "      <td>3054</td>\n",
       "      <td>3074</td>\n",
       "      <td>8414</td>\n",
       "    </tr>\n",
       "    <tr>\n",
       "      <th>21</th>\n",
       "      <td>22</td>\n",
       "      <td>2704</td>\n",
       "      <td>2807</td>\n",
       "      <td>7680</td>\n",
       "    </tr>\n",
       "    <tr>\n",
       "      <th>22</th>\n",
       "      <td>23</td>\n",
       "      <td>2619</td>\n",
       "      <td>2784</td>\n",
       "      <td>7459</td>\n",
       "    </tr>\n",
       "    <tr>\n",
       "      <th>23</th>\n",
       "      <td>24</td>\n",
       "      <td>2657</td>\n",
       "      <td>2716</td>\n",
       "      <td>6965</td>\n",
       "    </tr>\n",
       "    <tr>\n",
       "      <th>24</th>\n",
       "      <td>25</td>\n",
       "      <td>2844</td>\n",
       "      <td>2849</td>\n",
       "      <td>7792</td>\n",
       "    </tr>\n",
       "    <tr>\n",
       "      <th>25</th>\n",
       "      <td>26</td>\n",
       "      <td>2820</td>\n",
       "      <td>2854</td>\n",
       "      <td>7731</td>\n",
       "    </tr>\n",
       "    <tr>\n",
       "      <th>26</th>\n",
       "      <td>27</td>\n",
       "      <td>2658</td>\n",
       "      <td>2800</td>\n",
       "      <td>7405</td>\n",
       "    </tr>\n",
       "    <tr>\n",
       "      <th>27</th>\n",
       "      <td>28</td>\n",
       "      <td>3035</td>\n",
       "      <td>3084</td>\n",
       "      <td>8243</td>\n",
       "    </tr>\n",
       "    <tr>\n",
       "      <th>28</th>\n",
       "      <td>29</td>\n",
       "      <td>1904</td>\n",
       "      <td>1952</td>\n",
       "      <td>5305</td>\n",
       "    </tr>\n",
       "    <tr>\n",
       "      <th>29</th>\n",
       "      <td>30</td>\n",
       "      <td>2725</td>\n",
       "      <td>2743</td>\n",
       "      <td>7601</td>\n",
       "    </tr>\n",
       "    <tr>\n",
       "      <th>30</th>\n",
       "      <td>31</td>\n",
       "      <td>2754</td>\n",
       "      <td>2747</td>\n",
       "      <td>7522</td>\n",
       "    </tr>\n",
       "    <tr>\n",
       "      <th>31</th>\n",
       "      <td>32</td>\n",
       "      <td>2506</td>\n",
       "      <td>2446</td>\n",
       "      <td>6753</td>\n",
       "    </tr>\n",
       "    <tr>\n",
       "      <th>32</th>\n",
       "      <td>33</td>\n",
       "      <td>2795</td>\n",
       "      <td>2773</td>\n",
       "      <td>7552</td>\n",
       "    </tr>\n",
       "    <tr>\n",
       "      <th>33</th>\n",
       "      <td>34</td>\n",
       "      <td>2545</td>\n",
       "      <td>2455</td>\n",
       "      <td>6867</td>\n",
       "    </tr>\n",
       "    <tr>\n",
       "      <th>34</th>\n",
       "      <td>35</td>\n",
       "      <td>3123</td>\n",
       "      <td>3065</td>\n",
       "      <td>8244</td>\n",
       "    </tr>\n",
       "    <tr>\n",
       "      <th>35</th>\n",
       "      <td>36</td>\n",
       "      <td>3183</td>\n",
       "      <td>3264</td>\n",
       "      <td>8936</td>\n",
       "    </tr>\n",
       "    <tr>\n",
       "      <th>36</th>\n",
       "      <td>37</td>\n",
       "      <td>2746</td>\n",
       "      <td>2861</td>\n",
       "      <td>7700</td>\n",
       "    </tr>\n",
       "    <tr>\n",
       "      <th>37</th>\n",
       "      <td>38</td>\n",
       "      <td>2789</td>\n",
       "      <td>2882</td>\n",
       "      <td>7596</td>\n",
       "    </tr>\n",
       "    <tr>\n",
       "      <th>38</th>\n",
       "      <td>39</td>\n",
       "      <td>2598</td>\n",
       "      <td>2636</td>\n",
       "      <td>7178</td>\n",
       "    </tr>\n",
       "    <tr>\n",
       "      <th>39</th>\n",
       "      <td>40</td>\n",
       "      <td>2751</td>\n",
       "      <td>2878</td>\n",
       "      <td>7447</td>\n",
       "    </tr>\n",
       "    <tr>\n",
       "      <th>40</th>\n",
       "      <td>41</td>\n",
       "      <td>2557</td>\n",
       "      <td>2669</td>\n",
       "      <td>7167</td>\n",
       "    </tr>\n",
       "    <tr>\n",
       "      <th>41</th>\n",
       "      <td>42</td>\n",
       "      <td>3068</td>\n",
       "      <td>3029</td>\n",
       "      <td>8141</td>\n",
       "    </tr>\n",
       "    <tr>\n",
       "      <th>42</th>\n",
       "      <td>43</td>\n",
       "      <td>2545</td>\n",
       "      <td>2688</td>\n",
       "      <td>7083</td>\n",
       "    </tr>\n",
       "    <tr>\n",
       "      <th>43</th>\n",
       "      <td>44</td>\n",
       "      <td>2521</td>\n",
       "      <td>2436</td>\n",
       "      <td>6656</td>\n",
       "    </tr>\n",
       "    <tr>\n",
       "      <th>44</th>\n",
       "      <td>45</td>\n",
       "      <td>2574</td>\n",
       "      <td>2643</td>\n",
       "      <td>7120</td>\n",
       "    </tr>\n",
       "    <tr>\n",
       "      <th>45</th>\n",
       "      <td>46</td>\n",
       "      <td>2392</td>\n",
       "      <td>2611</td>\n",
       "      <td>6870</td>\n",
       "    </tr>\n",
       "    <tr>\n",
       "      <th>46</th>\n",
       "      <td>47</td>\n",
       "      <td>2333</td>\n",
       "      <td>2361</td>\n",
       "      <td>6634</td>\n",
       "    </tr>\n",
       "    <tr>\n",
       "      <th>47</th>\n",
       "      <td>48</td>\n",
       "      <td>3170</td>\n",
       "      <td>3200</td>\n",
       "      <td>8482</td>\n",
       "    </tr>\n",
       "    <tr>\n",
       "      <th>48</th>\n",
       "      <td>49</td>\n",
       "      <td>2778</td>\n",
       "      <td>2696</td>\n",
       "      <td>7458</td>\n",
       "    </tr>\n",
       "    <tr>\n",
       "      <th>49</th>\n",
       "      <td>50</td>\n",
       "      <td>2942</td>\n",
       "      <td>2883</td>\n",
       "      <td>8016</td>\n",
       "    </tr>\n",
       "  </tbody>\n",
       "</table>\n",
       "</div>"
      ],
      "text/plain": [
       "    Day  high  middle   low\n",
       "0     1  2467    2529  6896\n",
       "1     2  2826    2921  7643\n",
       "2     3  3196    3265  9072\n",
       "3     4  3510    3557  9592\n",
       "4     5  2874    2865  7856\n",
       "5     6  2552    2588  6985\n",
       "6     7  2914    3036  8138\n",
       "7     8  2743    2694  7381\n",
       "8     9  3098    2996  8214\n",
       "9    10  2310    2394  6309\n",
       "10   11  2610    2530  7063\n",
       "11   12  2988    2996  8139\n",
       "12   13  2760    2700  7302\n",
       "13   14  3106    3241  8715\n",
       "14   15  2124    2120  6000\n",
       "15   16  2851    2973  8161\n",
       "16   17  2162    2302  5875\n",
       "17   18  2656    2585  7360\n",
       "18   19  2638    2785  7402\n",
       "19   20  3250    3304  8798\n",
       "20   21  3054    3074  8414\n",
       "21   22  2704    2807  7680\n",
       "22   23  2619    2784  7459\n",
       "23   24  2657    2716  6965\n",
       "24   25  2844    2849  7792\n",
       "25   26  2820    2854  7731\n",
       "26   27  2658    2800  7405\n",
       "27   28  3035    3084  8243\n",
       "28   29  1904    1952  5305\n",
       "29   30  2725    2743  7601\n",
       "30   31  2754    2747  7522\n",
       "31   32  2506    2446  6753\n",
       "32   33  2795    2773  7552\n",
       "33   34  2545    2455  6867\n",
       "34   35  3123    3065  8244\n",
       "35   36  3183    3264  8936\n",
       "36   37  2746    2861  7700\n",
       "37   38  2789    2882  7596\n",
       "38   39  2598    2636  7178\n",
       "39   40  2751    2878  7447\n",
       "40   41  2557    2669  7167\n",
       "41   42  3068    3029  8141\n",
       "42   43  2545    2688  7083\n",
       "43   44  2521    2436  6656\n",
       "44   45  2574    2643  7120\n",
       "45   46  2392    2611  6870\n",
       "46   47  2333    2361  6634\n",
       "47   48  3170    3200  8482\n",
       "48   49  2778    2696  7458\n",
       "49   50  2942    2883  8016"
      ]
     },
     "execution_count": 391,
     "metadata": {},
     "output_type": "execute_result"
    }
   ],
   "source": [
    "initial_df = funcs.high_middle_low(Central_to_West)\n",
    "initial_df"
   ]
  },
  {
   "cell_type": "code",
   "execution_count": 325,
   "id": "863feaaa",
   "metadata": {
    "scrolled": true
   },
   "outputs": [
    {
     "data": {
      "text/plain": [
       "0      7542.712189\n",
       "1      9912.692331\n",
       "2      5084.144499\n",
       "3      9505.419906\n",
       "4      5702.952941\n",
       "          ...     \n",
       "145    6224.048791\n",
       "146    8084.807304\n",
       "147    7371.478841\n",
       "148    6715.745309\n",
       "149    7197.623135\n",
       "Name: C_to_W, Length: 150, dtype: float64"
      ]
     },
     "execution_count": 325,
     "metadata": {},
     "output_type": "execute_result"
    }
   ],
   "source": [
    " sent_units = loads['C_to_W']\n",
    "sent_units"
   ]
  },
  {
   "cell_type": "code",
   "execution_count": 218,
   "id": "0b3ed0f7",
   "metadata": {},
   "outputs": [],
   "source": [
    "sent_units = loads[['C_to_W']].iloc[1]\n",
    "sent_units\n",
    "initial_df[\"sent_units\"]= sent_units"
   ]
  },
  {
   "cell_type": "code",
   "execution_count": 491,
   "id": "79e807b3",
   "metadata": {},
   "outputs": [],
   "source": [
    "def lets_try(df, dest, num):\n",
    "    sent_units = loads[[dest]].iloc[num][0]\n",
    "    df[\"sent_units\"] = sent_units\n",
    "    combined = df\n",
    "    remainder_df = remainder(combined)\n",
    "    remainder_type_df = create_new_df(remainder_df).iloc[num]\n",
    "    df = remainder_type_df + initial_df.iloc[num + 1]\n",
    "    df = df.append(initial_df[[\"Day\"]].iloc[num + 1])\n",
    "    df = df.dropna()\n",
    "    return pd.DataFrame(df)"
   ]
  },
  {
   "cell_type": "code",
   "execution_count": 493,
   "id": "db3f458f",
   "metadata": {},
   "outputs": [],
   "source": [
    "def lets_try(df, dest, num):\n",
    "    df[\"sent_units\"] = loads[[dest]].iloc[num][0]\n",
    "    combined = df\n",
    "    remainder_df = remainder(combined)\n",
    "    remainder_type_df = create_new_df(remainder_df).iloc[num]\n",
    "    df2 = remainder_type_df + initial_df.iloc[num + 1]\n",
    "    df2 = df2.append(initial_df[[\"Day\"]].iloc[num + 1])\n",
    "    df2 = df2.dropna()\n",
    "    return pd.DataFrame(df2).transpose()"
   ]
  },
  {
   "cell_type": "code",
   "execution_count": 494,
   "id": "8d6da55b",
   "metadata": {},
   "outputs": [
    {
     "data": {
      "text/html": [
       "<div>\n",
       "<style scoped>\n",
       "    .dataframe tbody tr th:only-of-type {\n",
       "        vertical-align: middle;\n",
       "    }\n",
       "\n",
       "    .dataframe tbody tr th {\n",
       "        vertical-align: top;\n",
       "    }\n",
       "\n",
       "    .dataframe thead th {\n",
       "        text-align: right;\n",
       "    }\n",
       "</style>\n",
       "<table border=\"1\" class=\"dataframe\">\n",
       "  <thead>\n",
       "    <tr style=\"text-align: right;\">\n",
       "      <th></th>\n",
       "      <th>high</th>\n",
       "      <th>low</th>\n",
       "      <th>middle</th>\n",
       "      <th>Day</th>\n",
       "    </tr>\n",
       "  </thead>\n",
       "  <tbody>\n",
       "    <tr>\n",
       "      <th>0</th>\n",
       "      <td>2826.0</td>\n",
       "      <td>7643.0</td>\n",
       "      <td>8066.710536</td>\n",
       "      <td>2.0</td>\n",
       "    </tr>\n",
       "  </tbody>\n",
       "</table>\n",
       "</div>"
      ],
      "text/plain": [
       "     high     low       middle  Day\n",
       "0  2826.0  7643.0  8066.710536  2.0"
      ]
     },
     "execution_count": 494,
     "metadata": {},
     "output_type": "execute_result"
    }
   ],
   "source": [
    "df3 = lets_try(initial_df, \"C_to_W\", 0)\n",
    "df3"
   ]
  },
  {
   "cell_type": "code",
   "execution_count": 497,
   "id": "e68a68a3",
   "metadata": {},
   "outputs": [],
   "source": [
    "def lets_try2(df, dest, num):\n",
    "    df[\"sent_units\"] =  loads[[dest]].iloc[num][0]\n",
    "    combined = df\n",
    "    remainder_df = remainder(combined)\n",
    "    remainder_type_df = create_new_df(remainder_df).iloc[num]\n",
    "    df2 = remainder_type_df + initial_df.iloc[num + 1]\n",
    "    df2 = df2.append(initial_df[[\"Day\"]].iloc[num + 1])\n",
    "    df2 = df2.dropna()\n",
    "    return pd.DataFrame(df2).transpose()"
   ]
  },
  {
   "cell_type": "code",
   "execution_count": 498,
   "id": "64dc6ada",
   "metadata": {},
   "outputs": [
    {
     "data": {
      "text/html": [
       "<div>\n",
       "<style scoped>\n",
       "    .dataframe tbody tr th:only-of-type {\n",
       "        vertical-align: middle;\n",
       "    }\n",
       "\n",
       "    .dataframe tbody tr th {\n",
       "        vertical-align: top;\n",
       "    }\n",
       "\n",
       "    .dataframe thead th {\n",
       "        text-align: right;\n",
       "    }\n",
       "</style>\n",
       "<table border=\"1\" class=\"dataframe\">\n",
       "  <thead>\n",
       "    <tr style=\"text-align: right;\">\n",
       "      <th></th>\n",
       "      <th>high</th>\n",
       "      <th>low</th>\n",
       "      <th>middle</th>\n",
       "      <th>Day</th>\n",
       "    </tr>\n",
       "  </thead>\n",
       "  <tbody>\n",
       "    <tr>\n",
       "      <th>0</th>\n",
       "      <td>3196.0</td>\n",
       "      <td>9072.0</td>\n",
       "      <td>10447.726475</td>\n",
       "      <td>3.0</td>\n",
       "    </tr>\n",
       "  </tbody>\n",
       "</table>\n",
       "</div>"
      ],
      "text/plain": [
       "     high     low        middle  Day\n",
       "0  3196.0  9072.0  10447.726475  3.0"
      ]
     },
     "execution_count": 498,
     "metadata": {},
     "output_type": "execute_result"
    }
   ],
   "source": [
    "df4 = lets_try2(df3, \"C_to_W\", 1)\n",
    "df4"
   ]
  },
  {
   "cell_type": "code",
   "execution_count": 500,
   "id": "3b0dbab2",
   "metadata": {},
   "outputs": [
    {
     "data": {
      "text/html": [
       "<div>\n",
       "<style scoped>\n",
       "    .dataframe tbody tr th:only-of-type {\n",
       "        vertical-align: middle;\n",
       "    }\n",
       "\n",
       "    .dataframe tbody tr th {\n",
       "        vertical-align: top;\n",
       "    }\n",
       "\n",
       "    .dataframe thead th {\n",
       "        text-align: right;\n",
       "    }\n",
       "</style>\n",
       "<table border=\"1\" class=\"dataframe\">\n",
       "  <thead>\n",
       "    <tr style=\"text-align: right;\">\n",
       "      <th></th>\n",
       "      <th>high</th>\n",
       "      <th>low</th>\n",
       "      <th>middle</th>\n",
       "      <th>Day</th>\n",
       "    </tr>\n",
       "  </thead>\n",
       "  <tbody>\n",
       "    <tr>\n",
       "      <th>0</th>\n",
       "      <td>3510.0</td>\n",
       "      <td>9592.0</td>\n",
       "      <td>9045.056237</td>\n",
       "      <td>4.0</td>\n",
       "    </tr>\n",
       "  </tbody>\n",
       "</table>\n",
       "</div>"
      ],
      "text/plain": [
       "     high     low       middle  Day\n",
       "0  3510.0  9592.0  9045.056237  4.0"
      ]
     },
     "execution_count": 500,
     "metadata": {},
     "output_type": "execute_result"
    }
   ],
   "source": [
    "df5 = lets_try2(df4, \"C_to_W\", 2)\n",
    "df5"
   ]
  },
  {
   "cell_type": "code",
   "execution_count": 502,
   "id": "40824962",
   "metadata": {},
   "outputs": [
    {
     "data": {
      "text/html": [
       "<div>\n",
       "<style scoped>\n",
       "    .dataframe tbody tr th:only-of-type {\n",
       "        vertical-align: middle;\n",
       "    }\n",
       "\n",
       "    .dataframe tbody tr th {\n",
       "        vertical-align: top;\n",
       "    }\n",
       "\n",
       "    .dataframe thead th {\n",
       "        text-align: right;\n",
       "    }\n",
       "</style>\n",
       "<table border=\"1\" class=\"dataframe\">\n",
       "  <thead>\n",
       "    <tr style=\"text-align: right;\">\n",
       "      <th></th>\n",
       "      <th>high</th>\n",
       "      <th>low</th>\n",
       "      <th>middle</th>\n",
       "      <th>Day</th>\n",
       "    </tr>\n",
       "  </thead>\n",
       "  <tbody>\n",
       "    <tr>\n",
       "      <th>0</th>\n",
       "      <td>3052.164085</td>\n",
       "      <td>7856.0</td>\n",
       "      <td>12457.0</td>\n",
       "      <td>5.0</td>\n",
       "    </tr>\n",
       "  </tbody>\n",
       "</table>\n",
       "</div>"
      ],
      "text/plain": [
       "          high     low   middle  Day\n",
       "0  3052.164085  7856.0  12457.0  5.0"
      ]
     },
     "execution_count": 502,
     "metadata": {},
     "output_type": "execute_result"
    }
   ],
   "source": [
    "df6 = lets_try2(df5, \"C_to_W\", 3)\n",
    "df6"
   ]
  },
  {
   "cell_type": "code",
   "execution_count": null,
   "id": "bd7654d0",
   "metadata": {},
   "outputs": [],
   "source": [
    "if len(remainder_type_df) > len(initial_df):\n",
    "    initial_df = initial_df.reindex(range(len(remainder_type_df)), method='ffill')\n",
    "else:\n",
    "    remainder_type_df = remainder_type_df.reindex(range(len(initial_df)), method='ffill')"
   ]
  },
  {
   "cell_type": "code",
   "execution_count": null,
   "id": "042dbb6f",
   "metadata": {},
   "outputs": [],
   "source": [
    "for i in range(len(remainder_type_df)):\n",
    "    remainder_type_df.iloc[i] = remainder_type_df.iloc[i].add(initial_df.iloc[i+1])"
   ]
  },
  {
   "cell_type": "code",
   "execution_count": null,
   "id": "1994e5bb",
   "metadata": {
    "scrolled": false
   },
   "outputs": [],
   "source": [
    "def lets_try2(initial_df, remainder_type_df):\n",
    "    initial_df = initial_df + remainder_type_df\n",
    "    return initial_df\n",
    "initial_df"
   ]
  },
  {
   "cell_type": "code",
   "execution_count": null,
   "id": "c9e3239b",
   "metadata": {},
   "outputs": [],
   "source": [
    "loads['dest1a'] = loads['C_to_W']"
   ]
  },
  {
   "cell_type": "code",
   "execution_count": null,
   "id": "b461b12b",
   "metadata": {},
   "outputs": [],
   "source": []
  },
  {
   "cell_type": "code",
   "execution_count": null,
   "id": "03b6f606",
   "metadata": {},
   "outputs": [],
   "source": []
  },
  {
   "cell_type": "code",
   "execution_count": null,
   "id": "def6e7dc",
   "metadata": {},
   "outputs": [],
   "source": [
    "sent_units = loads.loc[row, 'dest1a']"
   ]
  },
  {
   "cell_type": "code",
   "execution_count": null,
   "id": "d7f17201",
   "metadata": {},
   "outputs": [],
   "source": [
    "sent_units"
   ]
  },
  {
   "cell_type": "code",
   "execution_count": null,
   "id": "378b1a4e",
   "metadata": {},
   "outputs": [],
   "source": [
    "combined"
   ]
  },
  {
   "cell_type": "code",
   "execution_count": null,
   "id": "e3c58a60",
   "metadata": {},
   "outputs": [],
   "source": [
    "def final_result(initial_df, loads):\n",
    "    # Keep track of used rows in the loads dataframe\n",
    "    used_rows = []\n",
    "\n",
    "    for i in range(len(initial_df)):\n",
    "        # Get the next unused row from the loads dataframe\n",
    "        row = next((j for j in range(len(loads)) if j not in used_rows))\n",
    "        for i in range(len(initial_df)):\n",
    "            sent_units = loads.loc[row, 'dest1a']\n",
    "            used_rows.append(row)\n",
    "            # Combine the initial_df and loads dataframes\n",
    "            combined = combined_df(initial_df, sent_units)\n",
    "            # Calculate the remainder\n",
    "            remainder_df = remainder(combined)\n",
    "            remainder_type_df = create_new_df(remainder_df)\n",
    "            used_rows.append(row)\n",
    "           # Update the corresponding row in the initial_df dataframe\n",
    "            initial_df.iloc[i] = initial_df.iloc[i].add(remainder_type_df.iloc[i -1])\n",
    "            # Mark the used row\n",
    "            used_rows.append(row)\n",
    "        else:\n",
    "            # If all rows in the loads dataframe have been used, break the loop\n",
    "            break       \n",
    "    return initial_df"
   ]
  },
  {
   "cell_type": "code",
   "execution_count": null,
   "id": "deaa304e",
   "metadata": {},
   "outputs": [],
   "source": [
    "def combined_df(df1, sent_units):\n",
    "    df1['sent_units'] = sent_units\n",
    "    return df1"
   ]
  },
  {
   "cell_type": "code",
   "execution_count": null,
   "id": "31d30380",
   "metadata": {},
   "outputs": [],
   "source": [
    "final_result(initial_df, loads)"
   ]
  },
  {
   "cell_type": "code",
   "execution_count": null,
   "id": "f89a31b8",
   "metadata": {},
   "outputs": [],
   "source": []
  },
  {
   "cell_type": "code",
   "execution_count": null,
   "id": "0abcb7c2",
   "metadata": {},
   "outputs": [],
   "source": []
  },
  {
   "cell_type": "code",
   "execution_count": null,
   "id": "f34c9d42",
   "metadata": {},
   "outputs": [],
   "source": []
  },
  {
   "cell_type": "code",
   "execution_count": null,
   "id": "f288e009",
   "metadata": {},
   "outputs": [],
   "source": [
    "c = funcs.combined_df(Central_to_West, loads, \"C_to_W\")"
   ]
  },
  {
   "cell_type": "code",
   "execution_count": null,
   "id": "e0375571",
   "metadata": {
    "scrolled": false
   },
   "outputs": [],
   "source": [
    "initial_df = funcs.remainder(c)\n",
    "initial_df "
   ]
  },
  {
   "cell_type": "code",
   "execution_count": null,
   "id": "0c9b7e11",
   "metadata": {},
   "outputs": [],
   "source": [
    "def create_new_df(remainder_df):\n",
    "    from pandasql import sqldf\n",
    "    pysqldf = lambda q: sqldf(q, globals())\n",
    "    \n",
    "    query = \"\"\"\n",
    "    SELECT \n",
    "        CASE\n",
    "            WHEN remainder_df.remainder_type == 'high' THEN remainder_df.remainder + remainder_df.middle\n",
    "            WHEN remainder_df.remainder_type == 'middle' THEN remainder_df.remainder\n",
    "            ELSE 0\n",
    "        END AS high,\n",
    "        CASE\n",
    "            WHEN remainder_df.remainder_type == 'high' THEN remainder_df.low\n",
    "            WHEN remainder_df.remainder_type == 'middle' THEN remainder_df.low\n",
    "            WHEN remainder_df.remainder_type == 'low' THEN remainder_df.remainder\n",
    "            ELSE 0\n",
    "            END AS middle,\n",
    "        CASE\n",
    "            WHEN remainder_df.remainder_type == 'low' THEN 0\n",
    "            ELSE 0\n",
    "        END AS low\n",
    "    FROM \n",
    "        remainder_df\n",
    "    \"\"\"\n",
    "    new_df = pysqldf(query)\n",
    "    return new_df"
   ]
  },
  {
   "cell_type": "code",
   "execution_count": null,
   "id": "0d30dac4",
   "metadata": {},
   "outputs": [],
   "source": [
    "new_df = create_new_df(initial_df)"
   ]
  },
  {
   "cell_type": "code",
   "execution_count": null,
   "id": "d3e777af",
   "metadata": {
    "scrolled": false
   },
   "outputs": [],
   "source": [
    "new_df"
   ]
  },
  {
   "cell_type": "code",
   "execution_count": null,
   "id": "4c026b5d",
   "metadata": {},
   "outputs": [],
   "source": [
    "df = df2.iloc[0] + df.iloc[1]\n",
    "df['sent_units'] = loads[\"C_to_W\"].iloc[1] "
   ]
  },
  {
   "cell_type": "code",
   "execution_count": null,
   "id": "bd0c39ab",
   "metadata": {},
   "outputs": [],
   "source": [
    "df = pd.DataFrame(df)\n",
    "df = df.transpose()"
   ]
  },
  {
   "cell_type": "code",
   "execution_count": null,
   "id": "970fdf93",
   "metadata": {},
   "outputs": [],
   "source": [
    "df = funcs.remainder(df)\n",
    "df"
   ]
  },
  {
   "cell_type": "code",
   "execution_count": null,
   "id": "2cea40a1",
   "metadata": {},
   "outputs": [],
   "source": [
    "df3 = create_new_df(df)\n",
    "df3"
   ]
  },
  {
   "cell_type": "code",
   "execution_count": null,
   "id": "576014f1",
   "metadata": {},
   "outputs": [],
   "source": [
    "df = df3.iloc[0] + df.iloc[1]\n",
    "df['sent_units'] = loads[\"C_to_W\"].iloc[2] "
   ]
  },
  {
   "cell_type": "code",
   "execution_count": null,
   "id": "215b85f4",
   "metadata": {},
   "outputs": [],
   "source": [
    "def upgrading(df2):\n",
    "    from pandasql import sqldf\n",
    "    pysqldf = lambda q: sqldf(q, globals())\n",
    "    \n",
    "    query = \"\"\"\n",
    "    SELECT \n",
    "        CASE\n",
    "            WHEN df2.high > 0 THEN df2.high + df2.middle\n",
    "            WHEN df2.middle > 0 THEN df2.middle\n",
    "            ELSE 0\n",
    "        END AS high,\n",
    "        CASE\n",
    "            WHEN df2.high > 0 THEN df2.low\n",
    "            WHEN df2.middle > 0 THEN df2.low\n",
    "            WHEN df2.low > 0 THEN df2.low\n",
    "            ELSE 0\n",
    "        END AS middle,\n",
    "        CASE\n",
    "            WHEN df2.low > 0 THEN 0\n",
    "        END AS low\n",
    "    FROM \n",
    "        df2\n",
    "    \"\"\"\n",
    "    df3 = pysqldf(query)\n",
    "    return df3"
   ]
  },
  {
   "cell_type": "code",
   "execution_count": null,
   "id": "3301f0af",
   "metadata": {},
   "outputs": [],
   "source": [
    "df2 = upgrading(df2)\n",
    "df2"
   ]
  },
  {
   "cell_type": "code",
   "execution_count": null,
   "id": "c1ba0808",
   "metadata": {},
   "outputs": [],
   "source": [
    "def combined_df(df1, sent_units):\n",
    "    df1['sent_units'] = sent_units\n",
    "    return df1"
   ]
  },
  {
   "cell_type": "code",
   "execution_count": null,
   "id": "84350850",
   "metadata": {},
   "outputs": [],
   "source": [
    "combined = combined_df(initial_df, sent_units)"
   ]
  },
  {
   "cell_type": "code",
   "execution_count": null,
   "id": "0f53e443",
   "metadata": {},
   "outputs": [],
   "source": [
    "remainder_df = remainder(combined)\n",
    "remainder_df\n"
   ]
  },
  {
   "cell_type": "code",
   "execution_count": null,
   "id": "afdc2ab1",
   "metadata": {
    "scrolled": false
   },
   "outputs": [],
   "source": [
    "remainder_type_df = create_new_df(remainder_df)\n",
    "remainder_type_df"
   ]
  },
  {
   "cell_type": "code",
   "execution_count": null,
   "id": "f69d19e2",
   "metadata": {},
   "outputs": [],
   "source": [
    " initial_df.iloc[i] = initial_df.iloc[i].add(remainder_type_df.iloc[0], fill_value=0)"
   ]
  },
  {
   "cell_type": "code",
   "execution_count": null,
   "id": "39db8131",
   "metadata": {},
   "outputs": [],
   "source": [
    "initial_df.iloc[1] = initial_df.iloc[1].add(remainder_type_df.iloc[0])"
   ]
  },
  {
   "cell_type": "code",
   "execution_count": null,
   "id": "7957aa55",
   "metadata": {},
   "outputs": [],
   "source": [
    "initial_df.iloc[1]"
   ]
  },
  {
   "cell_type": "code",
   "execution_count": null,
   "id": "fe538094",
   "metadata": {},
   "outputs": [],
   "source": [
    "loads['dest1a'] = loads['C_to_W']"
   ]
  },
  {
   "cell_type": "code",
   "execution_count": null,
   "id": "1c2eff9f",
   "metadata": {},
   "outputs": [],
   "source": [
    "loads['dest1a']"
   ]
  },
  {
   "cell_type": "code",
   "execution_count": null,
   "id": "bd4574aa",
   "metadata": {},
   "outputs": [],
   "source": [
    "def final_result(initial_df, loads):\n",
    "    # Keep track of used rows in the loads dataframe\n",
    "    used_rows = []\n",
    "\n",
    "    for i in range(len(initial_df)):\n",
    "        # Get the next unused row from the loads dataframe\n",
    "        row = next((j for j in range(len(loads)) if j not in used_rows))\n",
    "        for i in range(len(initial_df)):\n",
    "            sent_units = loads.loc[row, 'dest1a']\n",
    "            # Combine the initial_df and loads dataframes\n",
    "            combined = combined_df(initial_df, sent_units)\n",
    "            # Calculate the remainder\n",
    "            remainder_df = funcs.remainder(combined)\n",
    "            remainder_type_df = funcs.create_new_df(remainder_df)\n",
    "            used_rows.append(row)\n",
    "           # Update the corresponding row in the initial_df dataframe\n",
    "            initial_df.iloc[i] = initial_df.iloc[i].add(remainder_type_df.iloc[i-1])\n",
    "            # Mark the used row\n",
    "            used_rows.append(row)\n",
    "        else:\n",
    "            # If all rows in the loads dataframe have been used, break the loop\n",
    "            break       \n",
    "    return initial_df"
   ]
  },
  {
   "cell_type": "code",
   "execution_count": null,
   "id": "af3b9bbd",
   "metadata": {},
   "outputs": [],
   "source": [
    "def final_result(initial_df, loads):\n",
    "    # Keep track of used rows in the loads dataframe\n",
    "    used_rows = []\n",
    "\n",
    "    for i in range(len(initial_df)):\n",
    "        # Get the next unused row from the loads dataframe\n",
    "        row = next((j for j in range(len(loads)) if j not in used_rows), None)\n",
    "        if row is not None:\n",
    "            sent_units = loads.loc[row, 'dest1a']\n",
    "            # Combine the initial_df and loads dataframes\n",
    "            combined = combined_df(initial_df, sent_units)\n",
    "            # Calculate the remainder\n",
    "            remainder_df = remainder(combined)\n",
    "            if remainder_df.iloc[i]['remainder_type'] == 'high':\n",
    "                # subtract the sent units\n",
    "                sent_units = loads.loc[row, 'dest1a']\n",
    "                used_rows.append(row)\n",
    "                combined = combined_df(initial_df, sent_units)\n",
    "                remainder_df = remainder(combined)\n",
    "            else:\n",
    "                # Determine the remainder type\n",
    "                remainder_type_df = create_new_df(remainder_df)\n",
    "                # Update the corresponding row in the initial_df dataframe\n",
    "                initial_df.iloc[i] = initial_df.iloc[i].add(remainder_type_df.iloc[i])\n",
    "            # Mark the used row\n",
    "            used_rows.append(row)\n",
    "        else:\n",
    "            # If all rows in the loads dataframe have been used, break the loop\n",
    "            break\n",
    "    # Add the sent units to the result\n",
    "    initial_df['sent'] = loads['dest1a']\n",
    "    return initial_df"
   ]
  },
  {
   "cell_type": "code",
   "execution_count": null,
   "id": "bb2f4ec9",
   "metadata": {},
   "outputs": [],
   "source": [
    "def final_result(initial_df, loads):\n",
    "    # Keep track of used rows in the loads dataframe\n",
    "    used_rows = []\n",
    "    for i in range(len(initial_df)):\n",
    "        # Get the next unused row from the loads dataframe\n",
    "        row = next((j for j in range(len(loads)) if j not in used_rows), None)\n",
    "        if row is not None:\n",
    "            sent_units = loads.loc[row, 'dest1a']\n",
    "            # Combine the initial_df and loads dataframes\n",
    "            combined = combined_df(initial_df, sent_units)\n",
    "            # Calculate the remainder\n",
    "            remainder_df = remainder(combined)\n",
    "            if remainder_df.iloc[i]['remainder_type'] == 'high':\n",
    "                # subtract the sent units\n",
    "                initial_df.loc[i, 'high'] -= sent_units\n",
    "            else:\n",
    "                # Determine the remainder type\n",
    "                remainder_type_df = create_new_df(remainder_df)\n",
    "                # Update the corresponding row in the initial_df dataframe\n",
    "                initial_df.iloc[i].add(remainder_type_df.iloc[i-1])\n",
    "            # Mark the used row\n",
    "            used_rows.append(row)\n",
    "        else:\n",
    "            # If all rows in the loads dataframe have been used, break the loop\n",
    "            break\n",
    "    # Add the sent units to the result\n",
    "    initial_df['sent'] = loads['dest1a']\n",
    "    return initial_df"
   ]
  },
  {
   "cell_type": "code",
   "execution_count": null,
   "id": "7d27afc9",
   "metadata": {},
   "outputs": [],
   "source": [
    "def final_result(initial_df, loads):\n",
    "    # Keep track of used rows in the loads dataframe\n",
    "    used_rows = []\n",
    "    for i in range(len(initial_df)):\n",
    "        # Get the next unused row from the loads dataframe\n",
    "        row = next((j for j in range(len(loads)) if j not in used_rows), None)\n",
    "        if row is not None:\n",
    "            sent_units = loads.loc[row, 'dest1a']\n",
    "            # Combine the initial_df and loads dataframes\n",
    "            combined = combined_df(initial_df, sent_units)\n",
    "            # Calculate the remainder\n",
    "            remainder_df = remainder(combined)\n",
    "            if remainder_df.iloc[i]['remainder_type'] == 'high':\n",
    "                remainder_df.iloc[i] = remainder_df.iloc[i] - create_new_df(remainder_df)###needs work\n",
    "                used_rows.append(row)\n",
    "            else:\n",
    "                # Determine the remainder type\n",
    "                remainder_type_df = create_new_df(remainder_df)\n",
    "                # Update the corresponding row in the initial_df dataframe\n",
    "                initial_df.iloc[i] = initial_df.iloc[i].add(remainder_type_df.iloc[i-1])\n",
    "            # Mark the used row\n",
    "            used_rows.append(row)\n",
    "        else:\n",
    "            # If all rows in the loads dataframe have been used, break the loop\n",
    "            break\n",
    "    # Add the sent units to the result\n",
    "    initial_df['sent'] = loads['dest1a']\n",
    "    return initial_df"
   ]
  },
  {
   "cell_type": "code",
   "execution_count": null,
   "id": "16ccb955",
   "metadata": {},
   "outputs": [],
   "source": [
    "used_rows = []\n",
    "row = next((j for j in range(len(loads)) if j not in used_rows), None)\n",
    "sent_units = loads.loc[row, 'dest1a']\n",
    "combined = combined_df(initial_df, sent_units)\n",
    "remainder_df = funcs.remainder(combined)"
   ]
  },
  {
   "cell_type": "code",
   "execution_count": null,
   "id": "50c860be",
   "metadata": {},
   "outputs": [],
   "source": [
    " initial_df.iloc[i].add(remainder_type_df.iloc[i])"
   ]
  },
  {
   "cell_type": "code",
   "execution_count": null,
   "id": "c80066ea",
   "metadata": {},
   "outputs": [],
   "source": [
    "def create_new_df(df):\n",
    "    from pandasql import sqldf\n",
    "    pysqldf = lambda q: sqldf(q, globals())\n",
    "    \n",
    "    query = \"\"\"\n",
    "    SELECT \n",
    "        CASE\n",
    "            WHEN remainder_df.remainder_type == 'high' THEN remainder_df.remainder\n",
    "            ELSE 0\n",
    "        END AS high,\n",
    "        CASE\n",
    "            WHEN remainder_df.remainder_type == 'high' THEN remainder_df.middle\n",
    "            WHEN remainder_df.remainder_type == 'middle' THEN remainder_df.remainder\n",
    "            ELSE 0\n",
    "            END AS middle,\n",
    "        CASE\n",
    "            WHEN remainder_df.remainder_type == 'high' THEN remainder_df.low\n",
    "            WHEN remainder_df.remainder_type == 'middle' THEN remainder_df.low\n",
    "            WHEN remainder_df.remainder_type == 'low' THEN remainder_df.remainder\n",
    "            ELSE 0\n",
    "        END AS low\n",
    "    FROM \n",
    "        remainder_df\n",
    "    \"\"\"\n",
    "    df3 = pysqldf(query)\n",
    "    return df3"
   ]
  },
  {
   "cell_type": "code",
   "execution_count": null,
   "id": "f9d98727",
   "metadata": {},
   "outputs": [],
   "source": [
    "final_result(initial_df, loads)"
   ]
  },
  {
   "cell_type": "code",
   "execution_count": null,
   "id": "30ff7ac2",
   "metadata": {},
   "outputs": [],
   "source": [
    "def final_result(initial_df, loads):\n",
    "    # Keep track of used rows in the loads dataframe\n",
    "    used_rows = []\n",
    "\n",
    "    for i in range(len(initial_df)):\n",
    "        # Get the next unused row from the loads dataframe\n",
    "        row = next((j for j in range(len(loads)) if j not in used_rows))\n",
    "        for i in range(len(initial_df)):\n",
    "            sent_units = loads.loc[row, 'dest1a']\n",
    "            # Combine the initial_df and loads dataframes\n",
    "            combined = combined_df(initial_df, sent_units)\n",
    "            # Calculate the remainder\n",
    "            remainder_df = remainder(combined)\n",
    "            if remainder_df.iloc[i]['remainder_type'] == 'high':\n",
    "                sent_units = loads.loc[row, 'dest1a']\n",
    "                used_rows.append(row)\n",
    "                combined = combined_df(initial_df, sent_units)\n",
    "                remainder_df = remainder(combined)\n",
    "            else:\n",
    "                # Determine the remainder type\n",
    "                remainder_type_df = create_new_df(remainder_df)\n",
    "                used_rows.append(row)\n",
    "                if i+1 < len(initial_df):\n",
    "                    initial_df.iloc[i+1] = initial_df.iloc[i+1].add(remainder_type_df.iloc[i])\n",
    "                else:\n",
    "                    break\n",
    "        else:\n",
    "            # If all rows in the loads dataframe have been used, break the loop\n",
    "            break\n",
    "    return initial_df"
   ]
  },
  {
   "cell_type": "code",
   "execution_count": null,
   "id": "96cb8f55",
   "metadata": {},
   "outputs": [],
   "source": [
    "lets_see_just_how_good_chat_gpt_is(initial_df, loads)"
   ]
  },
  {
   "cell_type": "code",
   "execution_count": null,
   "id": "3e242a4f",
   "metadata": {},
   "outputs": [],
   "source": []
  },
  {
   "cell_type": "code",
   "execution_count": null,
   "id": "722c09a0",
   "metadata": {},
   "outputs": [],
   "source": [
    "  # Upgrade the remainder\n",
    "            upgraded_df = upgrading(remainder_type_df)"
   ]
  },
  {
   "cell_type": "code",
   "execution_count": null,
   "id": "57406f0a",
   "metadata": {},
   "outputs": [],
   "source": []
  },
  {
   "cell_type": "code",
   "execution_count": null,
   "id": "5ed6c1c9",
   "metadata": {},
   "outputs": [],
   "source": [
    "df = df2.iloc[0] + df.iloc[1]\n",
    "df['sent_units'] = loads[\"C_to_W\"].iloc[1] "
   ]
  },
  {
   "cell_type": "code",
   "execution_count": null,
   "id": "fd71c3db",
   "metadata": {},
   "outputs": [],
   "source": [
    "df = pd.DataFrame(df)\n",
    "df = df.transpose()"
   ]
  },
  {
   "cell_type": "code",
   "execution_count": null,
   "id": "083c81ae",
   "metadata": {},
   "outputs": [],
   "source": [
    "df = funcs.remainder(df)\n",
    "df"
   ]
  },
  {
   "cell_type": "code",
   "execution_count": null,
   "id": "dba0a568",
   "metadata": {},
   "outputs": [],
   "source": [
    "def create_new_df1(df):\n",
    "    from pandasql import sqldf\n",
    "    pysqldf = lambda q: sqldf(q, globals())\n",
    "    \n",
    "    query = \"\"\"\n",
    "    SELECT \n",
    "        CASE\n",
    "            WHEN df.remainder_type == high THEN df.remainder\n",
    "            ELSE 0\n",
    "        END AS high,\n",
    "        CASE\n",
    "            WHEN df.remainder_type == high THEN df.middle\n",
    "            WHEN df.remainder_type == middle THEN df.remainder + z\n",
    "            ELSE df.middle\n",
    "        END AS middle,\n",
    "        CASE\n",
    "            WHEN df.remainder_type == low THEN df.remainder + df.low\n",
    "            ELSE df.low\n",
    "        END AS low\n",
    "    FROM \n",
    "        df\n",
    "    \"\"\"\n",
    "    df3 = pysqldf(query)\n",
    "    return df3"
   ]
  },
  {
   "cell_type": "code",
   "execution_count": null,
   "id": "3c3f090a",
   "metadata": {},
   "outputs": [],
   "source": [
    "create_new_df1(df)"
   ]
  },
  {
   "cell_type": "code",
   "execution_count": null,
   "id": "63f379e5",
   "metadata": {},
   "outputs": [],
   "source": [
    "a"
   ]
  },
  {
   "cell_type": "code",
   "execution_count": null,
   "id": "3cb36560",
   "metadata": {},
   "outputs": [],
   "source": [
    "df3 = funcs.new_remainder_type(a)\n",
    "df3"
   ]
  },
  {
   "cell_type": "code",
   "execution_count": null,
   "id": "b5411993",
   "metadata": {},
   "outputs": [],
   "source": [
    "result_df = pd.concat([ee, dd], axis=0)"
   ]
  },
  {
   "cell_type": "code",
   "execution_count": null,
   "id": "79c8defe",
   "metadata": {},
   "outputs": [],
   "source": [
    "result_df"
   ]
  },
  {
   "cell_type": "code",
   "execution_count": null,
   "id": "f1f76fe6",
   "metadata": {},
   "outputs": [],
   "source": [
    "def high_middle_low2(df, Day):\n",
    "    ee = funcs.high_middle_low(df, Day-1)\n",
    "    dd = funcs.high_middle_low(df, Day)\n",
    "    result_df = pd.concat([ee, dd], axis=0)\n",
    "    return result_df"
   ]
  },
  {
   "cell_type": "code",
   "execution_count": null,
   "id": "8776bec6",
   "metadata": {
    "scrolled": true
   },
   "outputs": [],
   "source": [
    "high_middle_low2(Central_to_West, 2)"
   ]
  },
  {
   "cell_type": "code",
   "execution_count": null,
   "id": "dc79d18c",
   "metadata": {},
   "outputs": [],
   "source": [
    "def high_middle_low3(df, Day):\n",
    "\n",
    "    "
   ]
  },
  {
   "cell_type": "code",
   "execution_count": null,
   "id": "f7d42f05",
   "metadata": {},
   "outputs": [],
   "source": [
    "high_middle_low3(Central_to_West, 2)"
   ]
  },
  {
   "cell_type": "code",
   "execution_count": null,
   "id": "9367d84c",
   "metadata": {},
   "outputs": [],
   "source": [
    "funcs.high_middle_low(Central_to_West, 1)"
   ]
  },
  {
   "cell_type": "code",
   "execution_count": null,
   "id": "60229834",
   "metadata": {
    "scrolled": true
   },
   "outputs": [],
   "source": [
    "funcs.high_middle_low(Central_to_West, Central_to_West[\"Day\"]<= 5)"
   ]
  },
  {
   "cell_type": "code",
   "execution_count": null,
   "id": "393ff49d",
   "metadata": {},
   "outputs": [],
   "source": [
    "df = funcs.combined_df(Central_to_West, 2, loads, \"C_to_W\")\n",
    "df"
   ]
  },
  {
   "cell_type": "code",
   "execution_count": null,
   "id": "36c44f12",
   "metadata": {},
   "outputs": [],
   "source": [
    "df2 = funcs.remainder(df)\n",
    "df2"
   ]
  },
  {
   "cell_type": "code",
   "execution_count": null,
   "id": "4b46869d",
   "metadata": {
    "scrolled": true
   },
   "outputs": [],
   "source": [
    "df1 = funcs.new_remainder_type(df2)\n",
    "df1"
   ]
  },
  {
   "cell_type": "code",
   "execution_count": null,
   "id": "fc8a89a7",
   "metadata": {},
   "outputs": [],
   "source": [
    "def create_new_df(df1, df2):\n",
    "    from pandasql import sqldf\n",
    "    pysqldf = lambda q: sqldf(q, globals())\n",
    "    query = \"\"\"\n",
    "    SELECT \n",
    "        CASE\n",
    "            WHEN df1.new_high > 0 THEN df1.new_high + df2.high\n",
    "            ELSE df2.high\n",
    "        END AS high,\n",
    "        CASE\n",
    "            WHEN df1.new_high > 0 THEN df1.middleqqq + df2.middle\n",
    "            WHEN df1.new_middle > 0 THEN df1.new_middle + df2.middle\n",
    "            ELSE df2.middle\n",
    "        END AS middle,\n",
    "        CASE\n",
    "            WHEN df1.new_high > 0 THEN df1.lowqqq + df2.low\n",
    "            WHEN df1.new_middle > 0 THEN df1.lowqqq + df2.low\n",
    "            WHEN df1.new_low > 0 THEN df1.new_low + df2.low\n",
    "            ELSE df2.low\n",
    "        END AS low\n",
    "    FROM \n",
    "        df1\n",
    "    JOIN \n",
    "        df2\n",
    "    \"\"\"\n",
    "    df3 = pysqldf(query)\n",
    "    return df3"
   ]
  },
  {
   "cell_type": "code",
   "execution_count": null,
   "id": "cc325d9c",
   "metadata": {
    "scrolled": true
   },
   "outputs": [],
   "source": [
    "create_new_df(df1, df2)"
   ]
  },
  {
   "cell_type": "code",
   "execution_count": null,
   "id": "ac59c98b",
   "metadata": {},
   "outputs": [],
   "source": [
    "Central_to_West['Day'].max()"
   ]
  },
  {
   "cell_type": "code",
   "execution_count": null,
   "id": "d14627f0",
   "metadata": {},
   "outputs": [],
   "source": [
    "Central_to_West[Central_to_West['Day'] == 1]"
   ]
  },
  {
   "cell_type": "code",
   "execution_count": null,
   "id": "b4e70692",
   "metadata": {},
   "outputs": [],
   "source": [
    "ccc = Central_to_West[Central_to_West['Day'] < 3]"
   ]
  },
  {
   "cell_type": "code",
   "execution_count": null,
   "id": "85f1738f",
   "metadata": {
    "scrolled": true
   },
   "outputs": [],
   "source": [
    "ccc "
   ]
  },
  {
   "cell_type": "code",
   "execution_count": null,
   "id": "3a407859",
   "metadata": {},
   "outputs": [],
   "source": [
    "Day = Central_to_West['Day'].unique()"
   ]
  },
  {
   "cell_type": "code",
   "execution_count": null,
   "id": "3c56fe8b",
   "metadata": {},
   "outputs": [],
   "source": [
    "Day"
   ]
  },
  {
   "cell_type": "code",
   "execution_count": null,
   "id": "c3dc1322",
   "metadata": {},
   "outputs": [],
   "source": [
    "for Day in Central_to_West['Day'].unique():\n",
    "        day_df = Central_to_West[Central_to_West['Day'] == Day]"
   ]
  },
  {
   "cell_type": "code",
   "execution_count": null,
   "id": "c6b4967e",
   "metadata": {},
   "outputs": [],
   "source": [
    "day_df"
   ]
  },
  {
   "cell_type": "code",
   "execution_count": null,
   "id": "9f90bf9d",
   "metadata": {},
   "outputs": [],
   "source": [
    "Day = df['Day'].unique()\n",
    "funcs.high_middle_low(df, Day)"
   ]
  },
  {
   "cell_type": "code",
   "execution_count": null,
   "id": "d65c065c",
   "metadata": {},
   "outputs": [],
   "source": []
  },
  {
   "cell_type": "code",
   "execution_count": null,
   "id": "1e94f3e9",
   "metadata": {},
   "outputs": [],
   "source": []
  },
  {
   "cell_type": "code",
   "execution_count": null,
   "id": "b093c76a",
   "metadata": {},
   "outputs": [],
   "source": [
    "def multple_days(df):\n",
    "    results = funcs.high_middle_low(df, df['Day'].unique())\n",
    "    return results"
   ]
  },
  {
   "cell_type": "code",
   "execution_count": null,
   "id": "e4f360ec",
   "metadata": {},
   "outputs": [],
   "source": [
    "def multple_days(df):\n",
    "    result_df = pd.DataFrame()\n",
    "    for Day in df['Day'].unique():\n",
    "        day_df = df[df['Day'] == Day]\n",
    "        results = funcs.high_middle_low(df, Day)\n",
    "        result_df = pd.concat([pd.DataFrame(results)], axis=1)\n",
    "        return result_df"
   ]
  },
  {
   "cell_type": "code",
   "execution_count": null,
   "id": "79771231",
   "metadata": {},
   "outputs": [],
   "source": [
    "def multple_days2(df):\n",
    "    result_df = pd.DataFrame()\n",
    "    for Day in df['Day'].unique():\n",
    "        day_df = df[df['Day'] == Day]\n",
    "        results = []\n",
    "        results.append(funcs.high_middle_low(df, day_df)\n",
    "        result_df = pd.concat([result_df, pd.DataFrame(results)], axis=1)\n",
    "    return result_df"
   ]
  },
  {
   "cell_type": "code",
   "execution_count": null,
   "id": "ab608486",
   "metadata": {},
   "outputs": [],
   "source": [
    "def process_days(df, functions):\n",
    "    result_df = pd.DataFrame()\n",
    "    for day in df['Day'].unique():\n",
    "        day_df = df[df['Day'] == Day]\n",
    "        results = []\n",
    "        for func in functions:\n",
    "            results.append(func(day_df))\n",
    "        result_df = pd.concat([result_df, pd.DataFrame(results)], axis=1)\n",
    "    return result_df"
   ]
  },
  {
   "cell_type": "code",
   "execution_count": null,
   "id": "b50fb8e3",
   "metadata": {},
   "outputs": [],
   "source": [
    "multple_days(Central_to_West)"
   ]
  },
  {
   "cell_type": "code",
   "execution_count": null,
   "id": "7d11d575",
   "metadata": {
    "scrolled": true
   },
   "outputs": [],
   "source": [
    "funcs.high_middle_low(Central_to_West, 1)"
   ]
  },
  {
   "cell_type": "code",
   "execution_count": null,
   "id": "1cc374fd",
   "metadata": {},
   "outputs": [],
   "source": [
    "def high_middle_low(df, day):\n",
    "    high = len(df[(df[\"Ship Mode\"] == \"First Class\") & (df[\"Day\"] == day)]) +\\\n",
    "           len(df[(df[\"Ship Mode\"] == \"Same Day\") & (df[\"Day\"] == day)])\n",
    "    middle = len(df[(df[\"Ship Mode\"] == \"Second Class\") & (df[\"Day\"] == day)])\n",
    "    low = len(df[(df[\"Ship Mode\"] == \"Standard Class\") & (df[\"Day\"] == day)])\n",
    "    return pd.DataFrame({'high': [high], 'middle': [middle], 'low': [low]})\n"
   ]
  },
  {
   "cell_type": "code",
   "execution_count": null,
   "id": "4e210dbd",
   "metadata": {},
   "outputs": [],
   "source": [
    "def combined_df(dest1, day, dest1a):\n",
    "    df1 = high_middle_low(dest1, day)\n",
    "    df1['sent_units'] = loads[dest1a][day -1]\n",
    "    return df1"
   ]
  },
  {
   "cell_type": "code",
   "execution_count": null,
   "id": "9a43a597",
   "metadata": {},
   "outputs": [],
   "source": [
    "df = combined_df(Central_to_East, 1, \"C_to_E\")"
   ]
  },
  {
   "cell_type": "code",
   "execution_count": null,
   "id": "ba8988b5",
   "metadata": {},
   "outputs": [],
   "source": [
    "df"
   ]
  },
  {
   "cell_type": "code",
   "execution_count": null,
   "id": "00159c31",
   "metadata": {},
   "outputs": [],
   "source": [
    "def remainder(df):\n",
    "    from pandasql import sqldf\n",
    "    # Use pandasql to join the two dataframes\n",
    "    query = '''\n",
    "    SELECT\n",
    "        df.high,\n",
    "        df.middle,\n",
    "        df.low,\n",
    "        df.sent_units,\n",
    "        CASE\n",
    "            WHEN df.high > df.sent_units THEN df.high - df.sent_units\n",
    "            WHEN df.high + df.middle > df.sent_units THEN  df.high + df.middle - df.sent_units\n",
    "            ELSE df.high + df.middle + df.low - df.sent_units\n",
    "        END AS remainder\n",
    "    FROM\n",
    "        df\n",
    "    '''\n",
    "    df_result = sqldf(query)\n",
    "\n",
    "    #create a new column indicating the remainder is high, middle or low \n",
    "    df_result['remainder_type'] = np.where(df.high > df.sent_units, 'high',\n",
    "                                      np.where(df.high + df.middle > df.sent_units, 'middle',\n",
    "                                               np.where(df.high + df.middle + df.low - df.sent_units > 0, 'low', 'other')))\n",
    "\n",
    "    return df_result"
   ]
  },
  {
   "cell_type": "code",
   "execution_count": null,
   "id": "f8441902",
   "metadata": {},
   "outputs": [],
   "source": [
    "df2 = remainder(df)\n",
    "df2"
   ]
  },
  {
   "cell_type": "code",
   "execution_count": null,
   "id": "19e26621",
   "metadata": {},
   "outputs": [],
   "source": [
    "def new_remainder_type(df, new_df):\n",
    "    new_df['new_high'] = df.loc[df['remainder_type'] == 'high', 'remainder']\n",
    "    new_df['new_middle'] = df.loc[df['remainder_type'] == 'middle', 'remainder']\n",
    "    new_df['new_low'] = df.loc[df['remainder_type'] == 'low', 'remainder']\n",
    "    new_df['middleqqq'] = df['middle']\n",
    "    new_df['lowqqq'] = df['low']\n",
    "    new_df = new_df.fillna(0)\n",
    "    return new_df"
   ]
  },
  {
   "cell_type": "code",
   "execution_count": null,
   "id": "fcaca005",
   "metadata": {
    "scrolled": false
   },
   "outputs": [],
   "source": [
    "df1 = new_remainder_type(df2, new_df)\n",
    "df1"
   ]
  },
  {
   "cell_type": "code",
   "execution_count": null,
   "id": "4a8590a5",
   "metadata": {},
   "outputs": [],
   "source": [
    "def create_new_df(df1, df2):\n",
    "    pysqldf = lambda q: sqldf(q, globals())\n",
    "    \n",
    "    query = \"\"\"\n",
    "    SELECT \n",
    "        CASE\n",
    "            WHEN df1.new_high > 0 THEN df1.new_high + df2.high\n",
    "            ELSE df2.high\n",
    "        END AS high,\n",
    "        CASE\n",
    "            WHEN df1.new_high > 0 THEN df1.middleqqq + df2.middle\n",
    "            WHEN df1.new_middle > 0 THEN df1.new_middle + df2.middle\n",
    "            ELSE df2.middle\n",
    "        END AS middle,\n",
    "        CASE\n",
    "            WHEN df1.new_high > 0 THEN df1.lowqqq + df2.low\n",
    "            WHEN df1.new_middle > 0 THEN df1.lowqqq + df2.low\n",
    "            WHEN df1.new_low > 0 THEN df1.new_low + df2.low\n",
    "            ELSE df2.low\n",
    "        END AS low\n",
    "    FROM \n",
    "        df1\n",
    "    JOIN \n",
    "        df2\n",
    "    \"\"\"\n",
    "    df3 = pysqldf(query)\n",
    "    return df3"
   ]
  },
  {
   "cell_type": "code",
   "execution_count": null,
   "id": "dd84a917",
   "metadata": {},
   "outputs": [],
   "source": [
    "df1 = pd.DataFrame({'new_high':[5,6,7], 'new_middle':[1,2,3], 'middleqqq':[2,3,4], 'lowqqq':[3,4,5], 'new_low':[1,2,3]})\n",
    "df2 = pd.DataFrame({'high':[1,2,3], 'middle':[4,5,6], 'low':[7,8,9]})\n",
    "df3 = create_new_df(df1, df2)\n",
    "print(df3)"
   ]
  },
  {
   "cell_type": "code",
   "execution_count": null,
   "id": "baefa54f",
   "metadata": {},
   "outputs": [],
   "source": [
    "create_new_df(df1, df2)"
   ]
  },
  {
   "cell_type": "code",
   "execution_count": null,
   "id": "db165467",
   "metadata": {},
   "outputs": [],
   "source": [
    "df1 = pd.DataFrame({'new_high':[5,6,7], 'new_middle':[1,2,3], 'middle?':[2,3,4], 'low?':[3,4,5], 'new_low':[1,2,3]})\n",
    "df2 = pd.DataFrame({'high':[1,2,3], 'middle':[4,5,6], 'low':[7,8,9]})\n",
    "df3 = create_new_df(df1, df2)\n",
    "print(df3)"
   ]
  },
  {
   "cell_type": "code",
   "execution_count": null,
   "id": "8c6c5247",
   "metadata": {},
   "outputs": [],
   "source": []
  },
  {
   "cell_type": "code",
   "execution_count": null,
   "id": "01c83ebf",
   "metadata": {},
   "outputs": [],
   "source": []
  },
  {
   "cell_type": "code",
   "execution_count": null,
   "id": "88f60774",
   "metadata": {},
   "outputs": [],
   "source": [
    "import pandas as pd\n",
    "\n",
    "# Create sample dataframes\n",
    "df1 = pd.DataFrame({'new_high': [7, 3, 8, 4, 6]})\n",
    "df2 = pd.DataFrame({'high': [2, 5, 3, 7, 9]})\n",
    "\n",
    "# Create an empty dataframe\n",
    "df3 = pd.DataFrame()\n",
    "\n",
    "# Add the values of DF1's new_high column and df2's high column to df3's high column\n",
    "# only when DF1's new_high column is greater than 5\n",
    "df3['high'] = df1['new_high'] + df2['high']\n",
    "df3['high'] = df3['high'].where(df1['new_high'] > 5, 0)\n",
    "\n",
    "# View the resulting dataframe\n",
    "print(df3)"
   ]
  },
  {
   "cell_type": "code",
   "execution_count": null,
   "id": "2266ceeb",
   "metadata": {},
   "outputs": [],
   "source": [
    "\n",
    "def add_remainder_to_new_df(df, df2):\n",
    "    new_df = pd.DataFrame()  \n",
    "    if df[df['new_high'] > 0.0]:\n",
    "        new_df[\"high\"] = df['new_high'] + df2['high']\n",
    "    return new_df\n",
    "\n"
   ]
  },
  {
   "cell_type": "code",
   "execution_count": null,
   "id": "7c746d8b",
   "metadata": {},
   "outputs": [],
   "source": [
    "add_remainder_to_new_df(df3, df2)"
   ]
  },
  {
   "cell_type": "code",
   "execution_count": null,
   "id": "b88eca7f",
   "metadata": {},
   "outputs": [],
   "source": [
    "df1 = high_middle_low(Central_to_East, 1)\n",
    "df1['sent_units'] = loads['C_to_S']"
   ]
  },
  {
   "cell_type": "code",
   "execution_count": null,
   "id": "b8760647",
   "metadata": {},
   "outputs": [],
   "source": [
    "df1"
   ]
  },
  {
   "cell_type": "code",
   "execution_count": null,
   "id": "fbcf98c4",
   "metadata": {},
   "outputs": [],
   "source": [
    "df2['sent_units'][0]"
   ]
  },
  {
   "cell_type": "code",
   "execution_count": null,
   "id": "e83c0c8f",
   "metadata": {},
   "outputs": [],
   "source": [
    "df2 = pd.DataFrame({'sent_units': [loads['C_to_S']]})"
   ]
  },
  {
   "cell_type": "code",
   "execution_count": null,
   "id": "4b518ba1",
   "metadata": {},
   "outputs": [],
   "source": [
    "df2.transpose()"
   ]
  },
  {
   "cell_type": "code",
   "execution_count": null,
   "id": "0ee22412",
   "metadata": {
    "scrolled": true
   },
   "outputs": [],
   "source": [
    "from pandasql import sqldf\n",
    "\n",
    "# Use pandasql to join the two dataframes\n",
    "query = '''\n",
    "SELECT\n",
    "    df1.high,\n",
    "    df1.middle,\n",
    "    df1.low,\n",
    "    df1.sent_units,\n",
    "    CASE\n",
    "        WHEN df1.high > df1.sent_units THEN df1.high - df1.sent_units\n",
    "        WHEN df1.high + df1.middle > df1.sent_units THEN  df1.high + df1.middle - df1.sent_units\n",
    "        ELSE df1.high + df1.middle + df1.low - df1.sent_units\n",
    "    END AS remainder\n",
    "FROM\n",
    "    df1\n",
    "'''\n",
    "\n",
    "df_result = sqldf(query)\n",
    "\n",
    "#create a new column indicating the remainder is high, middle or low \n",
    "df_result['remainder_type'] = np.where(df1.high > df1.sent_units, 'high',\n",
    "                                      np.where(df1.high + df1.middle > df1.sent_units, 'middle',\n",
    "                                               np.where(df1.high + df1.middle + df1.low - df1.sent_units > 0, 'low', 'other')))\n",
    "\n",
    "df_result"
   ]
  },
  {
   "cell_type": "code",
   "execution_count": null,
   "id": "b9768be1",
   "metadata": {},
   "outputs": [],
   "source": [
    "def add_remainder_to_new_df(df, new_df):\n",
    "    new_df['new_high'] = df.loc[df['remainder_type'] == 'high', 'remainder']\n",
    "    new_df['new_middle'] = df.loc[df['remainder_type'] == 'middle', 'remainder']\n",
    "    new_df['new_low'] = df.loc[df['remainder_type'] == 'low', 'remainder']\n",
    "    new_df['middle?'] = df['middle']\n",
    "    new_df['low?'] = df['low']\n",
    "    new_df = new_df.fillna(0)\n",
    "    return new_df"
   ]
  },
  {
   "cell_type": "code",
   "execution_count": null,
   "id": "056523e9",
   "metadata": {},
   "outputs": [],
   "source": [
    "new_df = pd.DataFrame()\n",
    "dfff = add_remainder_to_new_df(df_result, new_df)"
   ]
  },
  {
   "cell_type": "code",
   "execution_count": null,
   "id": "f8109812",
   "metadata": {
    "scrolled": true
   },
   "outputs": [],
   "source": [
    "dfff"
   ]
  },
  {
   "cell_type": "code",
   "execution_count": null,
   "id": "f9befbf2",
   "metadata": {},
   "outputs": [],
   "source": []
  },
  {
   "cell_type": "code",
   "execution_count": null,
   "id": "f973eee7",
   "metadata": {},
   "outputs": [],
   "source": []
  },
  {
   "cell_type": "code",
   "execution_count": null,
   "id": "08e82b67",
   "metadata": {},
   "outputs": [],
   "source": []
  },
  {
   "cell_type": "code",
   "execution_count": null,
   "id": "a846df70",
   "metadata": {},
   "outputs": [],
   "source": []
  },
  {
   "cell_type": "code",
   "execution_count": null,
   "id": "313eb470",
   "metadata": {},
   "outputs": [],
   "source": []
  },
  {
   "cell_type": "code",
   "execution_count": null,
   "id": "a8648053",
   "metadata": {},
   "outputs": [],
   "source": [
    "def add_remainders_to_new_df(df, new_df):\n",
    "    new_df[\"newhigh\"] = 0\n",
    "    new_df[\"newmedium\"] = 0\n",
    "    new_df[\"newlow\"] = 0\n",
    "    # filter rows where remainder_type is high\n",
    "    high_remainder = df.loc[df[\"remainder_type\"] == \"high\"]\n",
    "    # assign remainder value to newhigh column in new_df\n",
    "    new_df.loc[high_remainder.index, \"newhigh\"] = high_remainder[\"remainder\"]\n",
    "    # filter rows where remainder_type is medium\n",
    "    medium_remainder = df.loc[df[\"remainder_type\"] == \"medium\"]\n",
    "    # assign remainder value to newmedium column in new_df\n",
    "    new_df.loc[medium_remainder.index, \"newmedium\"] = medium_remainder[\"remainder\"]\n",
    "    # filter rows where remainder_type is low\n",
    "    low_remainder = df.loc[df[\"remainder_type\"] == \"low\"]\n",
    "    # assign remainder value to newlow column in new_df\n",
    "    new_df.loc[low_remainder.index, \"newlow\"] = low_remainder[\"remainder\"]"
   ]
  },
  {
   "cell_type": "code",
   "execution_count": null,
   "id": "aaf6c6b5",
   "metadata": {},
   "outputs": [],
   "source": [
    "new_df = pd.DataFrame()\n",
    "add_remainders_to_new_df(df_result, new_df)"
   ]
  },
  {
   "cell_type": "code",
   "execution_count": null,
   "id": "bf45607b",
   "metadata": {},
   "outputs": [],
   "source": [
    "def newwwww(df_result['remainder_type']):\n",
    "    df4_result = pd.DataFrame()\n",
    "    df4_result[\"new_middle\"] = np.where(df_result[remainder_type] == 'middle')\n",
    "    return df4_result"
   ]
  },
  {
   "cell_type": "code",
   "execution_count": null,
   "id": "8028c048",
   "metadata": {},
   "outputs": [],
   "source": [
    "def my_fun (var1,var2,var3):\n",
    "    df[var3]= np.where((df[var1]-df[var2])>0, df[var1]-df[var2], 0)\n",
    "    return df\n",
    "\n",
    "df1 = my_fun('age1','age2','diff')\n",
    "print (df1)\n",
    "   age1  age2  diff\n",
    "0    23    10    13\n",
    "1    45    20    25\n",
    "2    21    50     0"
   ]
  },
  {
   "cell_type": "code",
   "execution_count": null,
   "id": "6f86a757",
   "metadata": {},
   "outputs": [],
   "source": [
    "def newwwww(  ):\n",
    "    if df[df['remainder_type'] == 'middle']:\n",
    "        return df"
   ]
  },
  {
   "cell_type": "code",
   "execution_count": null,
   "id": "81fcb57f",
   "metadata": {},
   "outputs": [],
   "source": [
    "newwwww(df_result)"
   ]
  },
  {
   "cell_type": "code",
   "execution_count": null,
   "id": "91686d7c",
   "metadata": {},
   "outputs": [],
   "source": [
    "def newwwww(df):\n",
    "    if df.remainder_type == \"high\":\n",
    "        return newdf[\"high\"] == df[\"remainder\"], new_df[\"middle\"] == df[\"middle\"], new_df[\"low\"] == df[\"low\"]\n",
    "    elif df.remainder_type == \"middle\":\n",
    "        return df[\"newhigh\"] == 0, new_df[\"middle\"] == df[\"remainder\"], new_df[\"low\"] == df[\"low\"]\n",
    "    elif df.remainder_type == \"low\":\n",
    "        return df[\"newhigh\"] == 0, new_df[\"middle\"] == 0, new_df[\"low\"] == df[\"remainder\"]\n",
    "    elif df.remainder_type == \"other\":\n",
    "        return df[\"newhigh\"] == 0, new_df[\"middle\"] == 0, new_df[\"low\"] == 0   \n",
    "    \n",
    "    \n",
    "    \n",
    "    "
   ]
  },
  {
   "cell_type": "code",
   "execution_count": null,
   "id": "4f870d78",
   "metadata": {},
   "outputs": [],
   "source": [
    "def newwwww(df):\n",
    "    if df[df['remainder_type'] == 'high']:\n",
    "        return df[\"newhigh\"] == df[\"remainder\"]\n",
    "    elif df[df['remainder_type'] == 'middle']:\n",
    "        return df[\"newmiddle\"] == df[\"remainder\"]\n",
    "    elif df[df['remainder_type'] == 'low']:\n",
    "        return df[\"newlow\"] == df[\"remainder\"]  \n",
    "    "
   ]
  },
  {
   "cell_type": "code",
   "execution_count": null,
   "id": "383735d5",
   "metadata": {},
   "outputs": [],
   "source": [
    "newwwww(df_result)"
   ]
  },
  {
   "cell_type": "code",
   "execution_count": null,
   "id": "bb219bbf",
   "metadata": {},
   "outputs": [],
   "source": [
    "query = '''\n",
    "SELECT\n",
    "    df_result.high,\n",
    "    df_result.middle,\n",
    "    df_result.low,\n",
    "    df_result.remainder, \n",
    "    df_result.remainder_type,\n",
    "    CASE\n",
    "        WHEN df_result.remainder_type = high THEN df_result.high \n",
    "        \n",
    "        \n",
    "        df1.high > df2.sent_units THEN df1.high - df2.sent_units\n",
    "        WHEN df1.high + df1.middle > df2.sent_units THEN  df1.high + df1.middle - df2.sent_units\n",
    "        ELSE df1.high + df1.middle + df1.low - df2.sent_units\n",
    "    END AS remainder\n",
    "FROM\n",
    "    df_result\n"
   ]
  },
  {
   "cell_type": "code",
   "execution_count": null,
   "id": "ccb060b1",
   "metadata": {},
   "outputs": [],
   "source": [
    "import pandas as pd\n",
    "\n",
    "# Create the main dataframe\n",
    "main = pd.DataFrame({'Day': ['Day 1']*4 + ['Day 2']*5 + ['Day 3']*6})\n",
    "\n",
    "# Create the second dataframe\n",
    "compare = pd.DataFrame({'Number': [5, 4, 6]})\n",
    "\n",
    "# Create a function to compare the number of rows for each day to the corresponding number in the second dataframe\n",
    "def compare_rows(day, number_df):\n",
    "    if day == 'Day 1':\n",
    "        return min(main[main['Day'] == day].shape[0], number_df.loc[0, 'Number'])\n",
    "    elif day == 'Day 2':\n",
    "        return min(main[main['Day'] == day].shape[0], number_df.loc[1, 'Number'])\n",
    "    elif day == 'Day 3':\n",
    "        return min(main[main['Day'] == day].shape[0], number_df.loc[2, 'Number'])\n",
    "\n",
    "# Apply the function to the main dataframe and add the result to a new column named 'result'\n",
    "main['result'] = main.apply(lambda x: compare_rows(x['Day'], compare), axis=1)"
   ]
  },
  {
   "cell_type": "code",
   "execution_count": null,
   "id": "099c4b8b",
   "metadata": {},
   "outputs": [],
   "source": []
  },
  {
   "cell_type": "code",
   "execution_count": null,
   "id": "ae0c4911",
   "metadata": {},
   "outputs": [],
   "source": []
  },
  {
   "cell_type": "code",
   "execution_count": null,
   "id": "57759229",
   "metadata": {},
   "outputs": [],
   "source": []
  },
  {
   "cell_type": "code",
   "execution_count": null,
   "id": "c84c1169",
   "metadata": {},
   "outputs": [],
   "source": [
    "\n",
    "def random_num_of_customer_orders(seed, loc, scale, size1, size2):\n",
    "    np.random.default_rng(seed)\n",
    "    rncos = np.random.normal(loc = loc, scale = scale, size = (size1, size2)).tolist()\n",
    "    rnco = rncos[0]\n",
    "    rncoi= ([int(a) for a in rnco])\n",
    "    df = pd.DataFrame()\n",
    "    start = 0\n",
    "    for i in range(1, len(rncoi) + 1):\n",
    "        end = start + rncoi[i - 1]\n",
    "        df_temp = pd.DataFrame({'Day': ['Day {}'.format(i)] * rncoi[i - 1]})\n",
    "        df = pd.concat([df, df_temp], ignore_index=True)\n",
    "    return df\n",
    "\n",
    "\n",
    "\n",
    "\n",
    "def random_customers(orders, low, high):\n",
    "    customers = []\n",
    "    for a in orders:\n",
    "        rng = np.random.default_rng()\n",
    "        m = rng.integers(low, high, size=(a))\n",
    "        customers.append(m)\n",
    "    return customers\n",
    "\n",
    "\n",
    "def customer_data(random_customers):\n",
    "    customers = []\n",
    "    for index, item in enumerate(random_customers):\n",
    "            super_explore['Day'][item] = index\n",
    "    for a in random_customers:\n",
    "        q = super_explore.iloc[a]\n",
    "        customers.append(q)\n",
    "        df2 = pd.concat(customers)\n",
    "    return df2\n"
   ]
  }
 ],
 "metadata": {
  "kernelspec": {
   "display_name": "Python 3 (ipykernel)",
   "language": "python",
   "name": "python3"
  },
  "language_info": {
   "codemirror_mode": {
    "name": "ipython",
    "version": 3
   },
   "file_extension": ".py",
   "mimetype": "text/x-python",
   "name": "python",
   "nbconvert_exporter": "python",
   "pygments_lexer": "ipython3",
   "version": "3.9.7"
  }
 },
 "nbformat": 4,
 "nbformat_minor": 5
}
